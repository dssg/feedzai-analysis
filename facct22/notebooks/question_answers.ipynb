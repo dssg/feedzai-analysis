{
 "cells": [
  {
   "cell_type": "code",
   "execution_count": 1,
   "metadata": {},
   "outputs": [],
   "source": [
    "import os\n",
    "import sys\n",
    "sys.path.append('../../')"
   ]
  },
  {
   "cell_type": "code",
   "execution_count": 2,
   "metadata": {},
   "outputs": [],
   "source": [
    "import pandas as pd\n",
    "import matplotlib.pyplot as plt\n",
    "import seaborn as sns\n",
    "import numpy as np\n",
    "import scipy.stats as stats\n",
    "from matplotlib.lines import Line2D\n",
    "from statsmodels.stats.multitest import multipletests\n",
    "import itertools\n",
    "from sklearn.utils import resample"
   ]
  },
  {
   "cell_type": "code",
   "execution_count": 3,
   "metadata": {},
   "outputs": [],
   "source": [
    "from facct22.utils import get_db_con\n",
    "\n",
    "from facct22.analysis_functions import (\n",
    "    get_all_decisions, groups, schemas, users, dps, dt, pdr, group_order, colors, \n",
    "    assign_conf_mat_cell, _modify_value_and_time, assign_conf_mat_cell, _get_variant_from_random_explainer,\n",
    "    _remove_duplicates\n",
    ")"
   ]
  },
  {
   "cell_type": "code",
   "execution_count": 4,
   "metadata": {},
   "outputs": [],
   "source": [
    "cred_file = '../../conf/credentials.yaml'\n",
    "engine = get_db_con(cred_file)"
   ]
  },
  {
   "cell_type": "code",
   "execution_count": 76,
   "metadata": {},
   "outputs": [],
   "source": [
    "def _remove_question_duplicates(group_df):\n",
    "    \"\"\"The way we are fetching the records from different schema results in duplicates. Removing them\"\"\"\n",
    "    d = dict()\n",
    "    group_df['label'].fillna(0, inplace=True)\n",
    "    \n",
    "    d['decision'] = group_df['decision'].max()\n",
    "    d['label'] = group_df['label'].max()\n",
    "    d['answer'] = group_df['answer'].max()\n",
    "#     d['answer_id'] = group_df['answer_id'].max()\n",
    "    d['question'] = group_df['question'].max()\n",
    "    return pd.Series(d)"
   ]
  },
  {
   "cell_type": "code",
   "execution_count": 92,
   "metadata": {},
   "outputs": [],
   "source": [
    "# answer_qs = [\n",
    "# f\"\"\"SELECT\n",
    "# ef.xplz_id,\n",
    "# an.answer,\n",
    "# an.answer_id,\n",
    "# rf.group,\n",
    "# qu.question,\n",
    "# qu.question_id,\n",
    "# us.user_name,\n",
    "# rf.decision,\n",
    "# ta.label\n",
    "# FROM {schema}.explicit_feedback as ef\n",
    "# LEFT JOIN {schema}.review_feedback rf USING (xplz_id, user_id)\n",
    "# LEFT JOIN {schema}.users us USING (user_id)\n",
    "# LEFT JOIN {schema}.answers an USING (answer_id)\n",
    "# LEFT JOIN {schema}.closed_questions qu USING (question_id)\n",
    "# LEFT JOIN {schema}.trx_user_assignments ta USING (xplz_id, user_id)\n",
    "# where us.user_name in {users}\n",
    "# ORDER BY xplz_id, rf.submission_datetime DESC\n",
    "# \"\"\"\n",
    "# for schema in schemas\n",
    "# ]\n",
    "\n",
    "answer_queries = [\n",
    "f\"\"\"SELECT\n",
    "ef.xplz_id,\n",
    "an.answer,\n",
    "an.answer_id,\n",
    "rf.group,\n",
    "qu.question,\n",
    "qu.question_id,\n",
    "us.user_name,\n",
    "rf.decision,\n",
    "ta.label,\n",
    "ta.label_fields ->> 'type' as trx_type\n",
    "FROM {schema}.explicit_feedback as ef\n",
    "LEFT JOIN {schema}.review_feedback rf USING (xplz_id, user_id)\n",
    "LEFT JOIN {schema}.users us USING (user_id)\n",
    "LEFT JOIN {schema}.answers an USING (answer_id)\n",
    "LEFT JOIN {schema}.closed_questions qu USING (question_id)\n",
    "LEFT JOIN {schema}.trx_user_assignments ta USING (xplz_id, user_id)\n",
    "where rf.user_name in {users}\n",
    "ORDER BY xplz_id, rf.submission_datetime DESC\n",
    "\"\"\"\n",
    "for schema in schemas\n",
    "]\n",
    "\n",
    "\n",
    "df_all = pd.concat([pd.read_sql(q, engine) for q in answer_queries])\n",
    "\n",
    "# print(df_all.head())\n",
    "df_all['user_name'] = df_all['user_name'].str.split('_').apply(lambda x: '_'.join(x[-1:]) if x is not None else None)\n",
    "\n",
    "df_all['group'] = df_all.apply(lambda x: _get_variant_from_random_explainer(engine, x), axis=1 )\n",
    "\n",
    "df_all['group'] = df_all['group'].apply(lambda x: groups[x] if x in groups else x)\n",
    "# df_all = df_all.groupby(['xplz_id', 'group', 'user_name', 'question_id', \"answer_id\"]).apply(_remove_question_duplicates).reset_index()\n"
   ]
  },
  {
   "cell_type": "code",
   "execution_count": 99,
   "metadata": {},
   "outputs": [
    {
     "data": {
      "text/plain": [
       "['ab_server_cmu_share_control',\n",
       " 'ab_server_cmu_share_explainers',\n",
       " 'ab_server_cmu_share_random_all',\n",
       " 'ab_server_cmu_share_random_j',\n",
       " 'ab_server_cmu_share_random_n',\n",
       " 'ab_server_cmu_share_random_t']"
      ]
     },
     "execution_count": 99,
     "metadata": {},
     "output_type": "execute_result"
    }
   ],
   "source": [
    "schemas"
   ]
  },
  {
   "cell_type": "code",
   "execution_count": 100,
   "metadata": {},
   "outputs": [
    {
     "data": {
      "text/plain": [
       "('exp_ns_fa_j',\n",
       " 'exp_ns_fa_n',\n",
       " 'exp_ns_fa_t',\n",
       " 'exp_sc_fa_j',\n",
       " 'exp_sc_fa_n',\n",
       " 'exp_sc_fa_t',\n",
       " 'exp_3_fa_j',\n",
       " 'exp_3_fa_n',\n",
       " 'exp_3_fa_t',\n",
       " 'exp_4_fa_j',\n",
       " 'exp_4_fa_n',\n",
       " 'exp_4_fa_t',\n",
       " 'exp_5_fa_j',\n",
       " 'exp_5_fa_n',\n",
       " 'exp_5_fa_t',\n",
       " 'exp_6_fa_j',\n",
       " 'exp_6_fa_n',\n",
       " 'exp_6_fa_t',\n",
       " 'exp_7_fa_j',\n",
       " 'exp_7_fa_n',\n",
       " 'exp_7_fa_t',\n",
       " 'exp_8_fa_j',\n",
       " 'exp_8_fa_n',\n",
       " 'exp_8_fa_t')"
      ]
     },
     "execution_count": 100,
     "metadata": {},
     "output_type": "execute_result"
    }
   ],
   "source": [
    "users"
   ]
  },
  {
   "cell_type": "code",
   "execution_count": 93,
   "metadata": {},
   "outputs": [],
   "source": [
    "questions = df_all.groupby('question_id')"
   ]
  },
  {
   "cell_type": "code",
   "execution_count": 94,
   "metadata": {},
   "outputs": [],
   "source": [
    "comparisons = [\n",
    "    ('Data', 'ML Model'),\n",
    "    ('ML Model', 'LIME'),\n",
    "    ('ML Model', 'TreeInt'),\n",
    "    ('ML Model', 'TreeSHAP'),\n",
    "    ('ML Model', 'Random'),\n",
    "    ('ML Model', 'Irrelevant'),\n",
    "    ('Random', 'TreeInt'),\n",
    "    ('Random', 'TreeSHAP'),\n",
    "    ('Random', 'LIME'),\n",
    "    ('Irrelevant', 'TreeInt'),\n",
    "    ('Irrelevant', 'TreeSHAP'),\n",
    "    ('Irrelevant', 'LIME'),\n",
    "    ('Irrelevant', 'Random'),\n",
    "    ('LIME', 'TreeSHAP'),\n",
    "    ('LIME', 'TreeInt'),\n",
    "    ('TreeSHAP', 'TreeInt')\n",
    "]"
   ]
  },
  {
   "cell_type": "code",
   "execution_count": 95,
   "metadata": {},
   "outputs": [],
   "source": [
    "def chi_square_test(contingency_table: np.array) -> tuple:\n",
    "    \"\"\" Performs a chi-squared test, given an matrix with the observed values\n",
    "    (contingency table).\n",
    "\n",
    "    It is assumed that the rows represent the group and the columns represent\n",
    "    the classes.\n",
    "\n",
    "    Parameters\n",
    "    ----------\n",
    "    contingency: numpy.array\n",
    "        Observed frequencies of each group for a given class.\n",
    "\n",
    "    Return\n",
    "    ------\n",
    "    tuple\n",
    "        Statistic and p-value of the test.\n",
    "    \"\"\"\n",
    "    expected = []\n",
    "    for j in range(contingency_table.shape[0]):\n",
    "        expected_line = []\n",
    "        for i in range(contingency_table.shape[1]):\n",
    "            frequency = np.sum(contingency_table[:, i]) / np.sum(contingency_table)\n",
    "            expected_value = frequency * np.sum(contingency_table[j, :])\n",
    "            expected_line.append(expected_value)\n",
    "        expected.append(expected_line)\n",
    "    expected = np.array(expected)\n",
    "    statistic = np.sum((contingency_table-expected)**2 / expected)\n",
    "    dof = (contingency_table.shape[0]-1) * (contingency_table.shape[1]-1)\n",
    "    pvalue = 1 - stats.chi2(df=dof).cdf(statistic)\n",
    "    return statistic, pvalue"
   ]
  },
  {
   "cell_type": "code",
   "execution_count": 96,
   "metadata": {},
   "outputs": [],
   "source": [
    "confident_answers = {\n",
    "    \"How confident are you in your classification?\": {\"I'm sure\"},\n",
    "    \"Did you have enough information to make a decision?\": {'Absolutely', \"Yes, mostly\"}\n",
    "}\n",
    "\n",
    "# confident_answers = {\n",
    "#     \"How confident are you in your classification?\": { \"Confident\", \"I'm sure\"},\n",
    "#     \"Did you have enough information to make a decision?\": {'Absolutely', \"Yes, mostly\"}\n",
    "# }"
   ]
  },
  {
   "cell_type": "markdown",
   "metadata": {},
   "source": [
    "#### Running the chi squared test"
   ]
  },
  {
   "cell_type": "code",
   "execution_count": 97,
   "metadata": {},
   "outputs": [
    {
     "name": "stderr",
     "output_type": "stream",
     "text": [
      "/home/kasun/.pyenv/versions/ducktales/lib/python3.6/site-packages/ipykernel_launcher.py:8: SettingWithCopyWarning: \n",
      "A value is trying to be set on a copy of a slice from a DataFrame.\n",
      "Try using .loc[row_indexer,col_indexer] = value instead\n",
      "\n",
      "See the caveats in the documentation: http://pandas.pydata.org/pandas-docs/stable/indexing.html#indexing-view-versus-copy\n",
      "  \n"
     ]
    },
    {
     "name": "stdout",
     "output_type": "stream",
     "text": [
      "Question:  How confident are you in your classification?\n",
      "('ML Model', 'LIME') 0.0\n",
      "('ML Model', 'TreeInt') 0.0\n",
      "('ML Model', 'TreeSHAP') 0.0\n",
      "('ML Model', 'Random') 0.0\n",
      "('ML Model', 'Irrelevant') 0.0\n",
      "('Random', 'TreeInt') 0.00022682959441999717\n",
      "('Random', 'TreeSHAP') 0.05422026950742298\n",
      "('Random', 'LIME') 1.1115614753087755e-06\n",
      "('Irrelevant', 'TreeInt') 1.435335802679738e-05\n",
      "('Irrelevant', 'TreeSHAP') 0.009258482564965309\n",
      "('Irrelevant', 'LIME') 3.6558825522448046e-08\n",
      "('LIME', 'TreeSHAP') 0.0002110346686292619\n",
      "('TreeSHAP', 'TreeInt') 0.027100369155180215\n",
      "---\n"
     ]
    },
    {
     "name": "stderr",
     "output_type": "stream",
     "text": [
      "/home/kasun/.pyenv/versions/ducktales/lib/python3.6/site-packages/ipykernel_launcher.py:27: RuntimeWarning: invalid value encountered in true_divide\n",
      "/home/kasun/.pyenv/versions/ducktales/lib/python3.6/site-packages/ipykernel_launcher.py:8: SettingWithCopyWarning: \n",
      "A value is trying to be set on a copy of a slice from a DataFrame.\n",
      "Try using .loc[row_indexer,col_indexer] = value instead\n",
      "\n",
      "See the caveats in the documentation: http://pandas.pydata.org/pandas-docs/stable/indexing.html#indexing-view-versus-copy\n",
      "  \n"
     ]
    },
    {
     "name": "stdout",
     "output_type": "stream",
     "text": [
      "Question:  Did you have enough information to make a decision?\n",
      "('Data', 'ML Model') 0.001559042211932038\n",
      "('ML Model', 'LIME') 7.274134627976991e-08\n",
      "('ML Model', 'TreeInt') 0.01197676711237472\n",
      "('ML Model', 'TreeSHAP') 2.037104326235717e-05\n",
      "('ML Model', 'Random') 0.0\n",
      "('ML Model', 'Irrelevant') 0.0\n",
      "('Random', 'TreeInt') 0.0\n",
      "('Random', 'TreeSHAP') 0.0\n",
      "('Random', 'LIME') 0.0\n",
      "('Irrelevant', 'TreeInt') 0.0\n",
      "('Irrelevant', 'TreeSHAP') 0.0\n",
      "('Irrelevant', 'LIME') 0.0\n",
      "('LIME', 'TreeInt') 0.0005570479952421437\n",
      "('TreeSHAP', 'TreeInt') 0.03484940895474742\n",
      "---\n"
     ]
    }
   ],
   "source": [
    "results_dfs = []\n",
    "p_val_dfs = []\n",
    "\n",
    "for q, all_groups in questions:\n",
    "    grp_obj = all_groups.groupby('group')\n",
    "    contingency = dict()\n",
    "    for g, df in grp_obj:\n",
    "        df['confident'] = df.apply(lambda x: 1 if x['answer'] in confident_answers[x['question']] else 0, axis=1)\n",
    "        val_counts = df['confident'].value_counts().to_dict()\n",
    "        l = list()\n",
    "        l.append(val_counts[0]) if 0 in val_counts else l.append(0)\n",
    "        l.append(val_counts[1]) if 1 in val_counts else l.append(0)\n",
    "#             l.append(val_counts[0])\n",
    "#         if 1 in val_counts:\n",
    "#             l.append(val_counts[1])\n",
    "        \n",
    "        contingency[g] = l\n",
    "    \n",
    "    \n",
    "    print('Question: ', all_groups['question'].unique()[0])\n",
    "    \n",
    "    l = list()\n",
    "    for g, freq in contingency.items():\n",
    "        confidence_rate = freq[1] / np.sum(freq)\n",
    "        \n",
    "        d = dict()\n",
    "        d['group'] = g\n",
    "        d['confidence_frac'] = confidence_rate\n",
    "        l.append(d)\n",
    "        \n",
    "    df = pd.DataFrame(l).sort_values('confidence_frac', ascending=False)\n",
    "    results_dfs.append(df)\n",
    "    \n",
    "    res = list()\n",
    "    for comp in comparisons:\n",
    "        \n",
    "        contingency_table = [contingency[comp[0]], contingency[comp[1]]]\n",
    "        \n",
    "        stat, p_val = chi_square_test(np.array(contingency_table))\n",
    "        d = dict()\n",
    "        d['comparison'] = comp\n",
    "        d['p-val'] = p_val\n",
    "        \n",
    "        res.append(d)\n",
    "        \n",
    "        if p_val < 0.1:\n",
    "            print(comp, p_val)\n",
    "            \n",
    "    df = pd.DataFrame(res)\n",
    "    p_val_dfs.append(df)    \n",
    "    print('---')"
   ]
  },
  {
   "cell_type": "code",
   "execution_count": 98,
   "metadata": {},
   "outputs": [
    {
     "data": {
      "text/plain": [
       "Text(0.5, 1.0, 'Did you have enough information to make a decision?')"
      ]
     },
     "execution_count": 98,
     "metadata": {},
     "output_type": "execute_result"
    },
    {
     "data": {
      "image/png": "[encoded data removed]",
      "text/plain": [
       "<Figure size 432x288 with 1 Axes>"
      ]
     },
     "metadata": {
      "needs_background": "light"
     },
     "output_type": "display_data"
    },
    {
     "data": {
      "image/png": "[encoded data removed]",
      "text/plain": [
       "<Figure size 432x288 with 1 Axes>"
      ]
     },
     "metadata": {
      "needs_background": "light"
     },
     "output_type": "display_data"
    }
   ],
   "source": [
    "fig, ax = plt.subplots()\n",
    "\n",
    "\n",
    "sns.barplot(\n",
    "    data=results_dfs[0],\n",
    "    x='group',\n",
    "    y='confidence_frac',\n",
    "    color='gray',\n",
    "    ax=ax\n",
    ")\n",
    "sns.despine()\n",
    "ax.set_title('How confident are you in your classification?')\n",
    "\n",
    "fig, ax = plt.subplots()\n",
    "\n",
    "sns.barplot(\n",
    "    data=results_dfs[1],\n",
    "    x='group',\n",
    "    y='confidence_frac',\n",
    "    color='gray',\n",
    "    ax=ax\n",
    ")\n",
    "sns.despine()\n",
    "ax.set_title('Did you have enough information to make a decision?')\n",
    "\n",
    "# results_dfs[0]"
   ]
  },
  {
   "cell_type": "code",
   "execution_count": 84,
   "metadata": {},
   "outputs": [
    {
     "data": {
      "text/html": [
       "<div>\n",
       "<style scoped>\n",
       "    .dataframe tbody tr th:only-of-type {\n",
       "        vertical-align: middle;\n",
       "    }\n",
       "\n",
       "    .dataframe tbody tr th {\n",
       "        vertical-align: top;\n",
       "    }\n",
       "\n",
       "    .dataframe thead th {\n",
       "        text-align: right;\n",
       "    }\n",
       "</style>\n",
       "<table border=\"1\" class=\"dataframe\">\n",
       "  <thead>\n",
       "    <tr style=\"text-align: right;\">\n",
       "      <th></th>\n",
       "      <th>pct_high_confidence</th>\n",
       "      <th>group</th>\n",
       "    </tr>\n",
       "  </thead>\n",
       "  <tbody>\n",
       "    <tr>\n",
       "      <th>2</th>\n",
       "      <td>0.360000</td>\n",
       "      <td>LIME</td>\n",
       "    </tr>\n",
       "    <tr>\n",
       "      <th>5</th>\n",
       "      <td>0.328629</td>\n",
       "      <td>TreeInt</td>\n",
       "    </tr>\n",
       "    <tr>\n",
       "      <th>6</th>\n",
       "      <td>0.274000</td>\n",
       "      <td>TreeSHAP</td>\n",
       "    </tr>\n",
       "    <tr>\n",
       "      <th>4</th>\n",
       "      <td>0.239919</td>\n",
       "      <td>Random</td>\n",
       "    </tr>\n",
       "    <tr>\n",
       "      <th>1</th>\n",
       "      <td>0.220884</td>\n",
       "      <td>Irrelevant</td>\n",
       "    </tr>\n",
       "    <tr>\n",
       "      <th>0</th>\n",
       "      <td>0.000000</td>\n",
       "      <td>Data</td>\n",
       "    </tr>\n",
       "    <tr>\n",
       "      <th>3</th>\n",
       "      <td>0.000000</td>\n",
       "      <td>ML Model</td>\n",
       "    </tr>\n",
       "  </tbody>\n",
       "</table>\n",
       "</div>"
      ],
      "text/plain": [
       "   pct_high_confidence       group\n",
       "2             0.360000        LIME\n",
       "5             0.328629     TreeInt\n",
       "6             0.274000    TreeSHAP\n",
       "4             0.239919      Random\n",
       "1             0.220884  Irrelevant\n",
       "0             0.000000        Data\n",
       "3             0.000000    ML Model"
      ]
     },
     "execution_count": 84,
     "metadata": {},
     "output_type": "execute_result"
    }
   ],
   "source": [
    "results_dfs[0].rename(columns={'confidence_frac': 'pct_high_confidence'})"
   ]
  },
  {
   "cell_type": "code",
   "execution_count": null,
   "metadata": {},
   "outputs": [],
   "source": [
    "results_dfs[0].rename(columns={'confidence_frac': 'pct_high_confidence'})"
   ]
  },
  {
   "cell_type": "code",
   "execution_count": 56,
   "metadata": {},
   "outputs": [
    {
     "data": {
      "text/html": [
       "<div>\n",
       "<style scoped>\n",
       "    .dataframe tbody tr th:only-of-type {\n",
       "        vertical-align: middle;\n",
       "    }\n",
       "\n",
       "    .dataframe tbody tr th {\n",
       "        vertical-align: top;\n",
       "    }\n",
       "\n",
       "    .dataframe thead th {\n",
       "        text-align: right;\n",
       "    }\n",
       "</style>\n",
       "<table border=\"1\" class=\"dataframe\">\n",
       "  <thead>\n",
       "    <tr style=\"text-align: right;\">\n",
       "      <th></th>\n",
       "      <th>comparison</th>\n",
       "      <th>p-val</th>\n",
       "    </tr>\n",
       "  </thead>\n",
       "  <tbody>\n",
       "    <tr>\n",
       "      <th>0</th>\n",
       "      <td>(Data, ML Model)</td>\n",
       "      <td>0.098609</td>\n",
       "    </tr>\n",
       "    <tr>\n",
       "      <th>1</th>\n",
       "      <td>(ML Model, LIME)</td>\n",
       "      <td>0.015431</td>\n",
       "    </tr>\n",
       "    <tr>\n",
       "      <th>2</th>\n",
       "      <td>(ML Model, TreeInt)</td>\n",
       "      <td>0.388882</td>\n",
       "    </tr>\n",
       "    <tr>\n",
       "      <th>3</th>\n",
       "      <td>(ML Model, TreeSHAP)</td>\n",
       "      <td>0.019226</td>\n",
       "    </tr>\n",
       "    <tr>\n",
       "      <th>4</th>\n",
       "      <td>(ML Model, Random)</td>\n",
       "      <td>0.025491</td>\n",
       "    </tr>\n",
       "    <tr>\n",
       "      <th>5</th>\n",
       "      <td>(ML Model, Irrelevant)</td>\n",
       "      <td>0.221009</td>\n",
       "    </tr>\n",
       "    <tr>\n",
       "      <th>6</th>\n",
       "      <td>(Random, TreeInt)</td>\n",
       "      <td>0.001981</td>\n",
       "    </tr>\n",
       "    <tr>\n",
       "      <th>7</th>\n",
       "      <td>(Random, TreeSHAP)</td>\n",
       "      <td>0.000005</td>\n",
       "    </tr>\n",
       "    <tr>\n",
       "      <th>8</th>\n",
       "      <td>(Random, LIME)</td>\n",
       "      <td>0.000003</td>\n",
       "    </tr>\n",
       "    <tr>\n",
       "      <th>9</th>\n",
       "      <td>(Irrelevant, TreeInt)</td>\n",
       "      <td>0.036965</td>\n",
       "    </tr>\n",
       "    <tr>\n",
       "      <th>10</th>\n",
       "      <td>(Irrelevant, TreeSHAP)</td>\n",
       "      <td>0.000368</td>\n",
       "    </tr>\n",
       "    <tr>\n",
       "      <th>11</th>\n",
       "      <td>(Irrelevant, LIME)</td>\n",
       "      <td>0.000270</td>\n",
       "    </tr>\n",
       "    <tr>\n",
       "      <th>12</th>\n",
       "      <td>(Irrelevant, Random)</td>\n",
       "      <td>0.309716</td>\n",
       "    </tr>\n",
       "    <tr>\n",
       "      <th>13</th>\n",
       "      <td>(LIME, TreeSHAP)</td>\n",
       "      <td>0.934819</td>\n",
       "    </tr>\n",
       "    <tr>\n",
       "      <th>14</th>\n",
       "      <td>(LIME, TreeInt)</td>\n",
       "      <td>0.117870</td>\n",
       "    </tr>\n",
       "    <tr>\n",
       "      <th>15</th>\n",
       "      <td>(TreeSHAP, TreeInt)</td>\n",
       "      <td>0.138234</td>\n",
       "    </tr>\n",
       "  </tbody>\n",
       "</table>\n",
       "</div>"
      ],
      "text/plain": [
       "                comparison     p-val\n",
       "0         (Data, ML Model)  0.098609\n",
       "1         (ML Model, LIME)  0.015431\n",
       "2      (ML Model, TreeInt)  0.388882\n",
       "3     (ML Model, TreeSHAP)  0.019226\n",
       "4       (ML Model, Random)  0.025491\n",
       "5   (ML Model, Irrelevant)  0.221009\n",
       "6        (Random, TreeInt)  0.001981\n",
       "7       (Random, TreeSHAP)  0.000005\n",
       "8           (Random, LIME)  0.000003\n",
       "9    (Irrelevant, TreeInt)  0.036965\n",
       "10  (Irrelevant, TreeSHAP)  0.000368\n",
       "11      (Irrelevant, LIME)  0.000270\n",
       "12    (Irrelevant, Random)  0.309716\n",
       "13        (LIME, TreeSHAP)  0.934819\n",
       "14         (LIME, TreeInt)  0.117870\n",
       "15     (TreeSHAP, TreeInt)  0.138234"
      ]
     },
     "execution_count": 56,
     "metadata": {},
     "output_type": "execute_result"
    }
   ],
   "source": [
    "\n",
    "p_val_dfs[0]"
   ]
  },
  {
   "cell_type": "code",
   "execution_count": null,
   "metadata": {},
   "outputs": [],
   "source": []
  }
 ],
 "metadata": {
  "kernelspec": {
   "display_name": "ducktales",
   "language": "python",
   "name": "ducktales"
  },
  "language_info": {
   "codemirror_mode": {
    "name": "ipython",
    "version": 3
   },
   "file_extension": ".py",
   "mimetype": "text/x-python",
   "name": "python",
   "nbconvert_exporter": "python",
   "pygments_lexer": "ipython3",
   "version": "3.6.9"
  }
 },
 "nbformat": 4,
 "nbformat_minor": 4
}
