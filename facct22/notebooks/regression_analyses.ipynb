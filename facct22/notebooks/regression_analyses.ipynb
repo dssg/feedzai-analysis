{
 "cells": [
  {
   "cell_type": "code",
   "execution_count": 1,
   "metadata": {},
   "outputs": [],
   "source": [
    "import os\n",
    "import sys\n",
    "sys.path.append('../../')"
   ]
  },
  {
   "cell_type": "code",
   "execution_count": 2,
   "metadata": {},
   "outputs": [],
   "source": [
    "import pandas as pd\n",
    "import matplotlib.pyplot as plt\n",
    "import seaborn as sns\n",
    "import numpy as np\n",
    "import scipy.stats as stats\n",
    "from matplotlib.lines import Line2D\n",
    "from statsmodels.stats.multitest import multipletests\n",
    "import itertools\n",
    "from sklearn.utils import resample"
   ]
  },
  {
   "cell_type": "code",
   "execution_count": 3,
   "metadata": {},
   "outputs": [],
   "source": [
    "from facct22.utils import get_db_con\n",
    "\n",
    "from facct22.analysis_functions import (\n",
    "    get_all_decisions, groups, schemas, users, dps, dt, pdr, group_order, colors, \n",
    "    ttests_operational_metrics, assign_conf_mat_cell, _modify_value_and_time\n",
    ")"
   ]
  },
  {
   "cell_type": "code",
   "execution_count": 4,
   "metadata": {},
   "outputs": [],
   "source": [
    "cred_file = '../../conf/credentials.yaml'\n",
    "engine = get_db_con(cred_file)"
   ]
  },
  {
   "cell_type": "markdown",
   "metadata": {},
   "source": [
    "#### Fetch Decisions"
   ]
  },
  {
   "cell_type": "code",
   "execution_count": 5,
   "metadata": {},
   "outputs": [],
   "source": [
    "all_decisions = get_all_decisions(engine, schemas, users, groups)"
   ]
  },
  {
   "cell_type": "markdown",
   "metadata": {},
   "source": [
    "#### Decision Time\n",
    "\n",
    "Let's consider the decision time as the output variable and regres it on the experiment particulars"
   ]
  },
  {
   "cell_type": "code",
   "execution_count": 6,
   "metadata": {},
   "outputs": [
    {
     "data": {
      "text/html": [
       "<div>\n",
       "<style scoped>\n",
       "    .dataframe tbody tr th:only-of-type {\n",
       "        vertical-align: middle;\n",
       "    }\n",
       "\n",
       "    .dataframe tbody tr th {\n",
       "        vertical-align: top;\n",
       "    }\n",
       "\n",
       "    .dataframe thead th {\n",
       "        text-align: right;\n",
       "    }\n",
       "</style>\n",
       "<table border=\"1\" class=\"dataframe\">\n",
       "  <thead>\n",
       "    <tr style=\"text-align: right;\">\n",
       "      <th></th>\n",
       "      <th>user_name</th>\n",
       "      <th>group</th>\n",
       "      <th>trx_amnt</th>\n",
       "      <th>decision_time</th>\n",
       "    </tr>\n",
       "  </thead>\n",
       "  <tbody>\n",
       "    <tr>\n",
       "      <th>0</th>\n",
       "      <td>j</td>\n",
       "      <td>ML Model</td>\n",
       "      <td>206.86</td>\n",
       "      <td>24</td>\n",
       "    </tr>\n",
       "    <tr>\n",
       "      <th>1</th>\n",
       "      <td>n</td>\n",
       "      <td>Irrelevant</td>\n",
       "      <td>102.69</td>\n",
       "      <td>126</td>\n",
       "    </tr>\n",
       "    <tr>\n",
       "      <th>2</th>\n",
       "      <td>n</td>\n",
       "      <td>Data</td>\n",
       "      <td>88.78</td>\n",
       "      <td>61</td>\n",
       "    </tr>\n",
       "    <tr>\n",
       "      <th>3</th>\n",
       "      <td>j</td>\n",
       "      <td>ML Model</td>\n",
       "      <td>137.94</td>\n",
       "      <td>8</td>\n",
       "    </tr>\n",
       "    <tr>\n",
       "      <th>4</th>\n",
       "      <td>t</td>\n",
       "      <td>Irrelevant</td>\n",
       "      <td>190.00</td>\n",
       "      <td>39</td>\n",
       "    </tr>\n",
       "  </tbody>\n",
       "</table>\n",
       "</div>"
      ],
      "text/plain": [
       "  user_name       group  trx_amnt  decision_time\n",
       "0         j    ML Model    206.86             24\n",
       "1         n  Irrelevant    102.69            126\n",
       "2         n        Data     88.78             61\n",
       "3         j    ML Model    137.94              8\n",
       "4         t  Irrelevant    190.00             39"
      ]
     },
     "execution_count": 6,
     "metadata": {},
     "output_type": "execute_result"
    }
   ],
   "source": [
    "regression_features = ['user_name', 'group', 'trx_amnt', 'decision_time']\n",
    "\n",
    "all_decisions[regression_features].head()"
   ]
  },
  {
   "cell_type": "code",
   "execution_count": 7,
   "metadata": {},
   "outputs": [],
   "source": [
    "dummified = pd.get_dummies(all_decisions[regression_features])"
   ]
  },
  {
   "cell_type": "code",
   "execution_count": 8,
   "metadata": {},
   "outputs": [],
   "source": [
    "y = dummified['decision_time']\n",
    "X = dummified.drop(columns='decision_time')"
   ]
  },
  {
   "cell_type": "code",
   "execution_count": 9,
   "metadata": {},
   "outputs": [],
   "source": [
    "from sklearn.model_selection import train_test_split\n",
    "from sklearn.linear_model import LinearRegression, Ridge, Lasso\n",
    "from sklearn.preprocessing import MinMaxScaler\n",
    "from sklearn.metrics import mean_squared_error, mean_absolute_error\n",
    "from sklearn.tree import DecisionTreeRegressor"
   ]
  },
  {
   "cell_type": "code",
   "execution_count": 10,
   "metadata": {},
   "outputs": [],
   "source": [
    "train_X, valid_X, train_y, valid_y = train_test_split(X, y, test_size=0.1)"
   ]
  },
  {
   "cell_type": "code",
   "execution_count": 11,
   "metadata": {},
   "outputs": [
    {
     "name": "stderr",
     "output_type": "stream",
     "text": [
      "/home/kasun/.pyenv/versions/ducktales/lib/python3.6/site-packages/sklearn/preprocessing/data.py:334: DataConversionWarning: Data with input dtype uint8, float64 were all converted to float64 by MinMaxScaler.\n",
      "  return self.partial_fit(X, y)\n"
     ]
    }
   ],
   "source": [
    "scaler = MinMaxScaler().fit(train_X)\n",
    "train_X_scaled = scaler.transform(train_X)\n",
    "valid_X_scaled = scaler.transform(valid_X)"
   ]
  },
  {
   "cell_type": "markdown",
   "metadata": {},
   "source": [
    "#### Unregularized Linear Regression"
   ]
  },
  {
   "cell_type": "code",
   "execution_count": 18,
   "metadata": {},
   "outputs": [],
   "source": [
    "mod = LinearRegression().fit(train_X_scaled, train_y)\n",
    "pred_y = mod.predict(valid_X_scaled)\n",
    "# mean_absolute_error(valid_y.values, pred_y) "
   ]
  },
  {
   "cell_type": "code",
   "execution_count": 19,
   "metadata": {},
   "outputs": [
    {
     "data": {
      "text/plain": [
       "{'trx_amnt': 32.11251005059774,\n",
       " 'user_name_j': -24.970090355944816,\n",
       " 'user_name_n': 26.17505253111577,\n",
       " 'user_name_t': -1.2049621751709425,\n",
       " 'group_Data': -1.49785150490683,\n",
       " 'group_Irrelevant': 6.633029394875724,\n",
       " 'group_LIME': -4.101376747057463,\n",
       " 'group_ML Model': -8.628236305629672,\n",
       " 'group_Random': 2.9419339962785926,\n",
       " 'group_TreeInt': 2.836338409223318,\n",
       " 'group_TreeSHAP': 1.816162757216361}"
      ]
     },
     "execution_count": 19,
     "metadata": {},
     "output_type": "execute_result"
    }
   ],
   "source": [
    "feature_importance = dict()\n",
    "for i in range(mod.coef_.shape[0]):\n",
    "    feature_importance[X.columns[i]] = mod.coef_[i]\n",
    "feature_importance"
   ]
  },
  {
   "cell_type": "code",
   "execution_count": 20,
   "metadata": {},
   "outputs": [
    {
     "data": {
      "text/plain": [
       "10587.969381622997"
      ]
     },
     "execution_count": 20,
     "metadata": {},
     "output_type": "execute_result"
    }
   ],
   "source": [
    "pred_y = mod.predict(valid_X)\n",
    "mse = mean_squared_error(valid_y.values, pred_y)\n",
    "np.sqrt(mse)"
   ]
  },
  {
   "cell_type": "code",
   "execution_count": 21,
   "metadata": {},
   "outputs": [
    {
     "data": {
      "text/plain": [
       "7101.663528799251"
      ]
     },
     "execution_count": 21,
     "metadata": {},
     "output_type": "execute_result"
    }
   ],
   "source": [
    "mean_absolute_error(valid_y.values, pred_y)"
   ]
  },
  {
   "cell_type": "markdown",
   "metadata": {},
   "source": [
    "#### L2"
   ]
  },
  {
   "cell_type": "code",
   "execution_count": 26,
   "metadata": {},
   "outputs": [],
   "source": [
    "mod = Ridge(alpha=0.1).fit(train_X_scaled, train_y)"
   ]
  },
  {
   "cell_type": "code",
   "execution_count": 27,
   "metadata": {},
   "outputs": [
    {
     "data": {
      "text/plain": [
       "trx_amnt            31.612474\n",
       "user_name_n         26.172554\n",
       "group_Irrelevant     6.631955\n",
       "group_Random         2.942368\n",
       "group_TreeInt        2.834667\n",
       "group_TreeSHAP       1.814974\n",
       "user_name_t         -1.204897\n",
       "group_Data          -1.495957\n",
       "group_LIME          -4.101157\n",
       "group_ML Model      -8.626851\n",
       "user_name_j        -24.967657\n",
       "dtype: float64"
      ]
     },
     "execution_count": 27,
     "metadata": {},
     "output_type": "execute_result"
    }
   ],
   "source": [
    "feature_importance = dict()\n",
    "for i in range(mod.coef_.shape[0]):\n",
    "    feature_importance[X.columns[i]] = mod.coef_[i]\n",
    "pd.Series(feature_importance).sort_values(ascending=False)"
   ]
  },
  {
   "cell_type": "code",
   "execution_count": 28,
   "metadata": {},
   "outputs": [
    {
     "data": {
      "text/plain": [
       "10423.055917692449"
      ]
     },
     "execution_count": 28,
     "metadata": {},
     "output_type": "execute_result"
    }
   ],
   "source": [
    "pred_y = mod.predict(valid_X)\n",
    "mse = mean_squared_error(valid_y.values, pred_y)\n",
    "np.sqrt(mse)"
   ]
  },
  {
   "cell_type": "code",
   "execution_count": 29,
   "metadata": {},
   "outputs": [
    {
     "data": {
      "text/plain": [
       "6991.09319334604"
      ]
     },
     "execution_count": 29,
     "metadata": {},
     "output_type": "execute_result"
    }
   ],
   "source": [
    "mean_absolute_error(valid_y.values, pred_y)"
   ]
  },
  {
   "cell_type": "markdown",
   "metadata": {},
   "source": [
    "#### L1"
   ]
  },
  {
   "cell_type": "code",
   "execution_count": 36,
   "metadata": {},
   "outputs": [],
   "source": [
    "mod = Lasso(alpha=0.1).fit(train_X_scaled, train_y)"
   ]
  },
  {
   "cell_type": "code",
   "execution_count": 37,
   "metadata": {},
   "outputs": [
    {
     "data": {
      "text/plain": [
       "user_name_n         27.084296\n",
       "group_Irrelevant     4.201086\n",
       "group_Random         0.547209\n",
       "group_TreeInt        0.291565\n",
       "group_TreeSHAP       0.000000\n",
       "user_name_t         -0.000000\n",
       "trx_amnt             0.000000\n",
       "group_Data          -2.465481\n",
       "group_LIME          -5.209787\n",
       "group_ML Model      -9.730710\n",
       "user_name_j        -23.448748\n",
       "dtype: float64"
      ]
     },
     "execution_count": 37,
     "metadata": {},
     "output_type": "execute_result"
    }
   ],
   "source": [
    "feature_importance = dict()\n",
    "for i in range(mod.coef_.shape[0]):\n",
    "    feature_importance[X.columns[i]] = mod.coef_[i]\n",
    "pd.Series(feature_importance).sort_values(ascending=False)"
   ]
  },
  {
   "cell_type": "code",
   "execution_count": 38,
   "metadata": {},
   "outputs": [
    {
     "data": {
      "text/plain": [
       "40.09995064286572"
      ]
     },
     "execution_count": 38,
     "metadata": {},
     "output_type": "execute_result"
    }
   ],
   "source": [
    "pred_y = mod.predict(valid_X)\n",
    "mse = mean_squared_error(valid_y.values, pred_y)\n",
    "np.sqrt(mse)"
   ]
  },
  {
   "cell_type": "code",
   "execution_count": 39,
   "metadata": {},
   "outputs": [
    {
     "data": {
      "text/plain": [
       "26.123385267515545"
      ]
     },
     "execution_count": 39,
     "metadata": {},
     "output_type": "execute_result"
    }
   ],
   "source": [
    "mean_absolute_error(valid_y.values, pred_y)"
   ]
  },
  {
   "cell_type": "markdown",
   "metadata": {},
   "source": [
    "#### Decision Tree"
   ]
  },
  {
   "cell_type": "code",
   "execution_count": 40,
   "metadata": {},
   "outputs": [
    {
     "data": {
      "text/plain": [
       "DecisionTreeRegressor(criterion='mse', max_depth=None, max_features=None,\n",
       "           max_leaf_nodes=None, min_impurity_decrease=0.0,\n",
       "           min_impurity_split=None, min_samples_leaf=1,\n",
       "           min_samples_split=20, min_weight_fraction_leaf=0.0,\n",
       "           presort=False, random_state=None, splitter='best')"
      ]
     },
     "execution_count": 40,
     "metadata": {},
     "output_type": "execute_result"
    }
   ],
   "source": [
    "mod = DecisionTreeRegressor(criterion='mse', max_depth=None, min_samples_split=20)\n",
    "mod.fit(train_X, train_y)"
   ]
  },
  {
   "cell_type": "code",
   "execution_count": 41,
   "metadata": {},
   "outputs": [
    {
     "data": {
      "text/plain": [
       "trx_amnt            0.465320\n",
       "user_name_n         0.350276\n",
       "user_name_t         0.095681\n",
       "group_Irrelevant    0.024283\n",
       "group_ML Model      0.015035\n",
       "group_TreeInt       0.012931\n",
       "group_Random        0.012191\n",
       "group_TreeSHAP      0.010157\n",
       "group_Data          0.008122\n",
       "group_LIME          0.006004\n",
       "user_name_j         0.000000\n",
       "dtype: float64"
      ]
     },
     "execution_count": 41,
     "metadata": {},
     "output_type": "execute_result"
    }
   ],
   "source": [
    "feature_importance = dict()\n",
    "for i in range(mod.feature_importances_.shape[0]):\n",
    "    feature_importance[X.columns[i]] = mod.feature_importances_[i]\n",
    "pd.Series(feature_importance).sort_values(ascending=False)"
   ]
  },
  {
   "cell_type": "code",
   "execution_count": 42,
   "metadata": {},
   "outputs": [
    {
     "data": {
      "text/plain": [
       "44.550365972383226"
      ]
     },
     "execution_count": 42,
     "metadata": {},
     "output_type": "execute_result"
    }
   ],
   "source": [
    "pred_y = mod.predict(valid_X)\n",
    "mse = mean_squared_error(valid_y.values, pred_y)\n",
    "np.sqrt(mse)"
   ]
  },
  {
   "cell_type": "code",
   "execution_count": 43,
   "metadata": {},
   "outputs": [
    {
     "data": {
      "text/plain": [
       "29.0569530117704"
      ]
     },
     "execution_count": 43,
     "metadata": {},
     "output_type": "execute_result"
    }
   ],
   "source": [
    "mean_absolute_error(valid_y.values, pred_y)"
   ]
  },
  {
   "cell_type": "code",
   "execution_count": null,
   "metadata": {},
   "outputs": [],
   "source": []
  }
 ],
 "metadata": {
  "kernelspec": {
   "display_name": "ducktales",
   "language": "python",
   "name": "ducktales"
  },
  "language_info": {
   "codemirror_mode": {
    "name": "ipython",
    "version": 3
   },
   "file_extension": ".py",
   "mimetype": "text/x-python",
   "name": "python",
   "nbconvert_exporter": "python",
   "pygments_lexer": "ipython3",
   "version": "3.6.9"
  }
 },
 "nbformat": 4,
 "nbformat_minor": 4
}
