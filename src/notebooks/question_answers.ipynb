{
 "cells": [
  {
   "cell_type": "markdown",
   "metadata": {},
   "source": [
    "**Notebook containing comparisons and plots about the self-reported measures**"
   ]
  },
  {
   "cell_type": "code",
   "execution_count": 1,
   "metadata": {},
   "outputs": [],
   "source": [
    "import os\n",
    "import sys\n",
    "sys.path.append('../../')"
   ]
  },
  {
   "cell_type": "code",
   "execution_count": 2,
   "metadata": {},
   "outputs": [],
   "source": [
    "import pandas as pd\n",
    "import matplotlib.pyplot as plt\n",
    "import seaborn as sns\n",
    "import numpy as np\n",
    "import scipy.stats as stats\n",
    "from matplotlib.lines import Line2D\n",
    "from statsmodels.stats.multitest import multipletests\n",
    "import itertools\n",
    "from sklearn.utils import resample"
   ]
  },
  {
   "cell_type": "code",
   "execution_count": 3,
   "metadata": {},
   "outputs": [],
   "source": [
    "from facct22.utils import get_db_con\n",
    "\n",
    "from facct22.analysis_functions import (\n",
    "    get_all_decisions, groups, schemas, users, dps, dt, pdr, group_order, colors, \n",
    "    assign_conf_mat_cell, _modify_value_and_time, assign_conf_mat_cell, _get_variant_from_random_explainer,\n",
    "    _remove_duplicates, chi_square_test\n",
    ")"
   ]
  },
  {
   "cell_type": "code",
   "execution_count": 4,
   "metadata": {},
   "outputs": [],
   "source": [
    "cred_file = '../../conf/credentials.yaml'\n",
    "engine = get_db_con(cred_file)"
   ]
  },
  {
   "cell_type": "code",
   "execution_count": 5,
   "metadata": {},
   "outputs": [],
   "source": [
    "def _remove_question_duplicates(group_df):\n",
    "    \"\"\"The way we are fetching the records from different schema results in duplicates. Removing them\"\"\"\n",
    "    d = dict()\n",
    "    group_df['label'].fillna(0, inplace=True)\n",
    "    \n",
    "    d['decision'] = group_df['decision'].max()\n",
    "    d['label'] = group_df['label'].max()\n",
    "    d['answer'] = group_df['answer'].max()\n",
    "#     d['answer_id'] = group_df['answer_id'].max()\n",
    "    d['question'] = group_df['question'].max()\n",
    "    return pd.Series(d)"
   ]
  },
  {
   "cell_type": "code",
   "execution_count": 6,
   "metadata": {},
   "outputs": [],
   "source": [
    "answer_queries = [\n",
    "f\"\"\"SELECT\n",
    "ef.xplz_id,\n",
    "an.answer,\n",
    "an.answer_id,\n",
    "rf.group,\n",
    "qu.question,\n",
    "qu.question_id,\n",
    "us.user_name,\n",
    "rf.decision,\n",
    "ta.label,\n",
    "ta.label_fields ->> 'type' as trx_type\n",
    "FROM {schema}.explicit_feedback as ef\n",
    "LEFT JOIN {schema}.review_feedback rf USING (xplz_id, user_id)\n",
    "LEFT JOIN {schema}.users us USING (user_id)\n",
    "LEFT JOIN {schema}.answers an USING (answer_id)\n",
    "LEFT JOIN {schema}.closed_questions qu USING (question_id)\n",
    "LEFT JOIN {schema}.trx_user_assignments ta USING (xplz_id, user_id)\n",
    "where rf.user_name in {users}\n",
    "ORDER BY xplz_id, rf.submission_datetime DESC\n",
    "\"\"\"\n",
    "for schema in schemas\n",
    "]\n",
    "\n",
    "\n",
    "df_all = pd.concat([pd.read_sql(q, engine) for q in answer_queries])\n",
    "\n",
    "# print(df_all.head())\n",
    "df_all['user_name'] = df_all['user_name'].str.split('_').apply(lambda x: '_'.join(x[-1:]) if x is not None else None)\n",
    "\n",
    "df_all['group'] = df_all.apply(lambda x: _get_variant_from_random_explainer(engine, x), axis=1 )\n",
    "\n",
    "df_all['group'] = df_all['group'].apply(lambda x: groups[x] if x in groups else x)\n",
    "df_all = df_all.groupby(['xplz_id', 'group', 'user_name', 'question_id', \"answer_id\"]).apply(_remove_question_duplicates).reset_index()\n"
   ]
  },
  {
   "cell_type": "code",
   "execution_count": 7,
   "metadata": {},
   "outputs": [],
   "source": [
    "def norm_answers(row):\n",
    "    if row[\"question_id\"] == 1:\n",
    "        return row[\"answer_id\"]\n",
    "    elif row[\"question_id\"] == 2:\n",
    "        return row[\"answer_id\"] - 5\n",
    "    \n",
    "df_all[\"normalized_answer\"] = df_all.apply(norm_answers, axis=1)"
   ]
  },
  {
   "cell_type": "code",
   "execution_count": 10,
   "metadata": {},
   "outputs": [
    {
     "data": {
      "text/plain": [
       "['ab_server_cmu_share_control',\n",
       " 'ab_server_cmu_share_explainers',\n",
       " 'ab_server_cmu_share_random_all',\n",
       " 'ab_server_cmu_share_random_j',\n",
       " 'ab_server_cmu_share_random_n',\n",
       " 'ab_server_cmu_share_random_t']"
      ]
     },
     "execution_count": 10,
     "metadata": {},
     "output_type": "execute_result"
    }
   ],
   "source": [
    "schemas"
   ]
  },
  {
   "cell_type": "code",
   "execution_count": 11,
   "metadata": {},
   "outputs": [
    {
     "data": {
      "text/plain": [
       "('exp_ns_fa_j',\n",
       " 'exp_ns_fa_n',\n",
       " 'exp_ns_fa_t',\n",
       " 'exp_sc_fa_j',\n",
       " 'exp_sc_fa_n',\n",
       " 'exp_sc_fa_t',\n",
       " 'exp_3_fa_j',\n",
       " 'exp_3_fa_n',\n",
       " 'exp_3_fa_t',\n",
       " 'exp_4_fa_j',\n",
       " 'exp_4_fa_n',\n",
       " 'exp_4_fa_t',\n",
       " 'exp_5_fa_j',\n",
       " 'exp_5_fa_n',\n",
       " 'exp_5_fa_t',\n",
       " 'exp_6_fa_j',\n",
       " 'exp_6_fa_n',\n",
       " 'exp_6_fa_t',\n",
       " 'exp_7_fa_j',\n",
       " 'exp_7_fa_n',\n",
       " 'exp_7_fa_t',\n",
       " 'exp_8_fa_j',\n",
       " 'exp_8_fa_n',\n",
       " 'exp_8_fa_t')"
      ]
     },
     "execution_count": 11,
     "metadata": {},
     "output_type": "execute_result"
    }
   ],
   "source": [
    "users"
   ]
  },
  {
   "cell_type": "code",
   "execution_count": 12,
   "metadata": {},
   "outputs": [],
   "source": [
    "questions = df_all.groupby('question_id')"
   ]
  },
  {
   "cell_type": "code",
   "execution_count": 13,
   "metadata": {},
   "outputs": [],
   "source": [
    "comparisons = [\n",
    "    ('Data', 'ML Model'),\n",
    "    ('ML Model', 'LIME'),\n",
    "    ('ML Model', 'TreeInt'),\n",
    "    ('ML Model', 'TreeSHAP'),\n",
    "    ('ML Model', 'Random'),\n",
    "    ('ML Model', 'Irrelevant'),\n",
    "    ('Random', 'TreeInt'),\n",
    "    ('Random', 'TreeSHAP'),\n",
    "    ('Random', 'LIME'),\n",
    "    ('Irrelevant', 'TreeInt'),\n",
    "    ('Irrelevant', 'TreeSHAP'),\n",
    "    ('Irrelevant', 'LIME'),\n",
    "    ('Irrelevant', 'Random'),\n",
    "    ('LIME', 'TreeSHAP'),\n",
    "    ('LIME', 'TreeInt'),\n",
    "    ('TreeSHAP', 'TreeInt')\n",
    "]"
   ]
  },
  {
   "cell_type": "code",
   "execution_count": 14,
   "metadata": {},
   "outputs": [],
   "source": [
    "def chi_square_test(contingency_table: np.array) -> tuple:\n",
    "    \"\"\" Performs a chi-squared test, given an matrix with the observed values\n",
    "    (contingency table).\n",
    "\n",
    "    It is assumed that the rows represent the group and the columns represent\n",
    "    the classes.\n",
    "\n",
    "    Parameters\n",
    "    ----------\n",
    "    contingency: numpy.array\n",
    "        Observed frequencies of each group for a given class.\n",
    "\n",
    "    Return\n",
    "    ------\n",
    "    tuple\n",
    "        Statistic and p-value of the test.\n",
    "    \"\"\"\n",
    "    expected = []\n",
    "    for j in range(contingency_table.shape[0]):\n",
    "        expected_line = []\n",
    "        for i in range(contingency_table.shape[1]):\n",
    "            frequency = np.sum(contingency_table[:, i]) / np.sum(contingency_table)\n",
    "            expected_value = frequency * np.sum(contingency_table[j, :])\n",
    "            expected_line.append(expected_value)\n",
    "        expected.append(expected_line)\n",
    "    expected = np.array(expected)\n",
    "    statistic = np.sum((contingency_table-expected)**2 / expected)\n",
    "    dof = (contingency_table.shape[0]-1) * (contingency_table.shape[1]-1)\n",
    "    pvalue = 1 - stats.chi2(df=dof).cdf(statistic)\n",
    "    return statistic, pvalue"
   ]
  },
  {
   "cell_type": "code",
   "execution_count": 29,
   "metadata": {},
   "outputs": [],
   "source": [
    "# confident_answers = {\n",
    "#     \"How confident are you in your classification?\": {\"I'm sure\"},\n",
    "#     \"Did you have enough information to make a decision?\": {'Absolutely', \"Yes, mostly\"}\n",
    "# }\n",
    "\n",
    "confident_answers = {\n",
    "    \"How confident are you in your classification?\": {5},\n",
    "    \"Did you have enough information to make a decision?\": {4, 5}\n",
    "}\n",
    "\n",
    "# confident_answers = {\n",
    "#     \"How confident are you in your classification?\": { \"Confident\", \"I'm sure\"},\n",
    "#     \"Did you have enough information to make a decision?\": {'Absolutely', \"Yes, mostly\"}\n",
    "# }"
   ]
  },
  {
   "cell_type": "markdown",
   "metadata": {},
   "source": [
    "#### Running the chi squared test"
   ]
  },
  {
   "cell_type": "code",
   "execution_count": 30,
   "metadata": {},
   "outputs": [
    {
     "name": "stderr",
     "output_type": "stream",
     "text": [
      "/home/kasun/.pyenv/versions/ducktales/lib/python3.6/site-packages/ipykernel_launcher.py:8: SettingWithCopyWarning: \n",
      "A value is trying to be set on a copy of a slice from a DataFrame.\n",
      "Try using .loc[row_indexer,col_indexer] = value instead\n",
      "\n",
      "See the caveats in the documentation: http://pandas.pydata.org/pandas-docs/stable/indexing.html#indexing-view-versus-copy\n",
      "  \n"
     ]
    },
    {
     "name": "stdout",
     "output_type": "stream",
     "text": [
      "Question:  How confident are you in your classification?\n",
      "('Data', 'ML Model') 1.4177096911982545e-06\n",
      "('ML Model', 'LIME') 2.22129086374645e-05\n",
      "('ML Model', 'TreeInt') 0.00134486873309958\n",
      "('Random', 'TreeInt') 0.001954260256987861\n",
      "('Random', 'LIME') 3.564138550471441e-05\n",
      "('Irrelevant', 'TreeInt') 0.00014158239680106544\n",
      "('Irrelevant', 'TreeSHAP') 0.05187957757397066\n",
      "('Irrelevant', 'LIME') 1.299666708920455e-06\n",
      "('LIME', 'TreeSHAP') 0.0034742910621657908\n",
      "('TreeSHAP', 'TreeInt') 0.0602521796372284\n",
      "---\n"
     ]
    },
    {
     "name": "stderr",
     "output_type": "stream",
     "text": [
      "/home/kasun/.pyenv/versions/ducktales/lib/python3.6/site-packages/ipykernel_launcher.py:8: SettingWithCopyWarning: \n",
      "A value is trying to be set on a copy of a slice from a DataFrame.\n",
      "Try using .loc[row_indexer,col_indexer] = value instead\n",
      "\n",
      "See the caveats in the documentation: http://pandas.pydata.org/pandas-docs/stable/indexing.html#indexing-view-versus-copy\n",
      "  \n"
     ]
    },
    {
     "name": "stdout",
     "output_type": "stream",
     "text": [
      "Question:  Did you have enough information to make a decision?\n",
      "('Data', 'ML Model') 0.0020162185349923423\n",
      "('ML Model', 'LIME') 2.443913007188492e-06\n",
      "('ML Model', 'TreeInt') 0.05808885149189136\n",
      "('ML Model', 'TreeSHAP') 0.0007640548243522671\n",
      "('ML Model', 'Random') 0.0\n",
      "('ML Model', 'Irrelevant') 0.0\n",
      "('Random', 'TreeInt') 0.0\n",
      "('Random', 'TreeSHAP') 0.0\n",
      "('Random', 'LIME') 0.0\n",
      "('Irrelevant', 'TreeInt') 0.0\n",
      "('Irrelevant', 'TreeSHAP') 0.0\n",
      "('Irrelevant', 'LIME') 0.0\n",
      "('Irrelevant', 'Random') 0.09745236248524614\n",
      "('LIME', 'TreeInt') 0.0047177666041781086\n",
      "---\n"
     ]
    }
   ],
   "source": [
    "results_dfs = []\n",
    "p_val_dfs = []\n",
    "\n",
    "for q, all_groups in questions:\n",
    "    grp_obj = all_groups.groupby('group')\n",
    "    contingency = dict()\n",
    "    for g, df in grp_obj:\n",
    "        df['top_bucket'] = df.apply(lambda x: 1 if x['normalized_answer'] in confident_answers[x['question']] else 0, axis=1)\n",
    "        val_counts = df['top_bucket'].value_counts().to_dict()\n",
    "        l = list()\n",
    "        l.append(val_counts[0]) if 0 in val_counts else l.append(0)\n",
    "        l.append(val_counts[1]) if 1 in val_counts else l.append(0)\n",
    "#             l.append(val_counts[0])\n",
    "#         if 1 in val_counts:\n",
    "#             l.append(val_counts[1])\n",
    "        \n",
    "        contingency[g] = l\n",
    "    \n",
    "    \n",
    "    print('Question: ', all_groups['question'].unique()[0])\n",
    "    \n",
    "    l = list()\n",
    "    for g, freq in contingency.items():\n",
    "        confidence_rate = freq[1] / np.sum(freq)\n",
    "        \n",
    "        d = dict()\n",
    "        d['group'] = g\n",
    "        d['top_bucket_pct'] = confidence_rate\n",
    "        l.append(d)\n",
    "        \n",
    "    df = pd.DataFrame(l).sort_values('top_bucket_pct', ascending=False)\n",
    "    results_dfs.append(df)\n",
    "    \n",
    "    res = list()\n",
    "    for comp in comparisons:\n",
    "        \n",
    "        contingency_table = [contingency[comp[0]], contingency[comp[1]]]\n",
    "        \n",
    "        stat, p_val = chi_square_test(np.array(contingency_table))\n",
    "        d = dict()\n",
    "        d['comparison'] = comp\n",
    "        d['p-val'] = p_val\n",
    "        \n",
    "        res.append(d)\n",
    "        \n",
    "        if p_val < 0.1:\n",
    "            print(comp, p_val)\n",
    "            \n",
    "    df = pd.DataFrame(res)\n",
    "    p_val_dfs.append(df)    \n",
    "    print('---')"
   ]
  },
  {
   "cell_type": "code",
   "execution_count": 31,
   "metadata": {},
   "outputs": [
    {
     "data": {
      "text/plain": [
       "Text(0.5, 1.0, 'Did you have enough information to make a decision?')"
      ]
     },
     "execution_count": 31,
     "metadata": {},
     "output_type": "execute_result"
    },
    {
     "data": {
      "image/png": "[encoded data removed]",
      "text/plain": [
       "<Figure size 432x288 with 1 Axes>"
      ]
     },
     "metadata": {
      "needs_background": "light"
     },
     "output_type": "display_data"
    },
    {
     "data": {
      "image/png": "[encoded data removed]",
      "text/plain": [
       "<Figure size 432x288 with 1 Axes>"
      ]
     },
     "metadata": {
      "needs_background": "light"
     },
     "output_type": "display_data"
    }
   ],
   "source": [
    "fig, ax = plt.subplots()\n",
    "\n",
    "\n",
    "sns.barplot(\n",
    "    data=results_dfs[0],\n",
    "    x='group',\n",
    "    y='top_bucket_pct',\n",
    "    color='gray',\n",
    "    ax=ax\n",
    ")\n",
    "sns.despine()\n",
    "ax.set_title('How confident are you in your classification?')\n",
    "\n",
    "fig, ax = plt.subplots()\n",
    "\n",
    "sns.barplot(\n",
    "    data=results_dfs[1],\n",
    "    x='group',\n",
    "    y='top_bucket_pct',\n",
    "    color='gray',\n",
    "    ax=ax\n",
    ")\n",
    "sns.despine()\n",
    "ax.set_title('Did you have enough information to make a decision?')\n",
    "\n",
    "# results_dfs[0]"
   ]
  },
  {
   "cell_type": "markdown",
   "metadata": {},
   "source": [
    "#### Question 1 -- Confidence"
   ]
  },
  {
   "cell_type": "code",
   "execution_count": 34,
   "metadata": {},
   "outputs": [
    {
     "data": {
      "text/html": [
       "<div>\n",
       "<style scoped>\n",
       "    .dataframe tbody tr th:only-of-type {\n",
       "        vertical-align: middle;\n",
       "    }\n",
       "\n",
       "    .dataframe tbody tr th {\n",
       "        vertical-align: top;\n",
       "    }\n",
       "\n",
       "    .dataframe thead th {\n",
       "        text-align: right;\n",
       "    }\n",
       "</style>\n",
       "<table border=\"1\" class=\"dataframe\">\n",
       "  <thead>\n",
       "    <tr style=\"text-align: right;\">\n",
       "      <th></th>\n",
       "      <th>group</th>\n",
       "      <th>top_bucket_pct</th>\n",
       "    </tr>\n",
       "  </thead>\n",
       "  <tbody>\n",
       "    <tr>\n",
       "      <th>2</th>\n",
       "      <td>LIME</td>\n",
       "      <td>0.360000</td>\n",
       "    </tr>\n",
       "    <tr>\n",
       "      <th>5</th>\n",
       "      <td>TreeInt</td>\n",
       "      <td>0.328629</td>\n",
       "    </tr>\n",
       "    <tr>\n",
       "      <th>6</th>\n",
       "      <td>TreeSHAP</td>\n",
       "      <td>0.274000</td>\n",
       "    </tr>\n",
       "    <tr>\n",
       "      <th>4</th>\n",
       "      <td>Random</td>\n",
       "      <td>0.239919</td>\n",
       "    </tr>\n",
       "    <tr>\n",
       "      <th>3</th>\n",
       "      <td>ML Model</td>\n",
       "      <td>0.236842</td>\n",
       "    </tr>\n",
       "    <tr>\n",
       "      <th>1</th>\n",
       "      <td>Irrelevant</td>\n",
       "      <td>0.220884</td>\n",
       "    </tr>\n",
       "    <tr>\n",
       "      <th>0</th>\n",
       "      <td>Data</td>\n",
       "      <td>0.119433</td>\n",
       "    </tr>\n",
       "  </tbody>\n",
       "</table>\n",
       "</div>"
      ],
      "text/plain": [
       "        group  top_bucket_pct\n",
       "2        LIME        0.360000\n",
       "5     TreeInt        0.328629\n",
       "6    TreeSHAP        0.274000\n",
       "4      Random        0.239919\n",
       "3    ML Model        0.236842\n",
       "1  Irrelevant        0.220884\n",
       "0        Data        0.119433"
      ]
     },
     "execution_count": 34,
     "metadata": {},
     "output_type": "execute_result"
    }
   ],
   "source": [
    "results_dfs[0]"
   ]
  },
  {
   "cell_type": "code",
   "execution_count": 36,
   "metadata": {},
   "outputs": [
    {
     "data": {
      "text/html": [
       "<div>\n",
       "<style scoped>\n",
       "    .dataframe tbody tr th:only-of-type {\n",
       "        vertical-align: middle;\n",
       "    }\n",
       "\n",
       "    .dataframe tbody tr th {\n",
       "        vertical-align: top;\n",
       "    }\n",
       "\n",
       "    .dataframe thead th {\n",
       "        text-align: right;\n",
       "    }\n",
       "</style>\n",
       "<table border=\"1\" class=\"dataframe\">\n",
       "  <thead>\n",
       "    <tr style=\"text-align: right;\">\n",
       "      <th></th>\n",
       "      <th>comparison</th>\n",
       "      <th>p-val</th>\n",
       "    </tr>\n",
       "  </thead>\n",
       "  <tbody>\n",
       "    <tr>\n",
       "      <th>0</th>\n",
       "      <td>(Data, ML Model)</td>\n",
       "      <td>0.000001</td>\n",
       "    </tr>\n",
       "    <tr>\n",
       "      <th>1</th>\n",
       "      <td>(ML Model, LIME)</td>\n",
       "      <td>0.000022</td>\n",
       "    </tr>\n",
       "    <tr>\n",
       "      <th>2</th>\n",
       "      <td>(ML Model, TreeInt)</td>\n",
       "      <td>0.001345</td>\n",
       "    </tr>\n",
       "    <tr>\n",
       "      <th>6</th>\n",
       "      <td>(Random, TreeInt)</td>\n",
       "      <td>0.001954</td>\n",
       "    </tr>\n",
       "    <tr>\n",
       "      <th>8</th>\n",
       "      <td>(Random, LIME)</td>\n",
       "      <td>0.000036</td>\n",
       "    </tr>\n",
       "    <tr>\n",
       "      <th>9</th>\n",
       "      <td>(Irrelevant, TreeInt)</td>\n",
       "      <td>0.000142</td>\n",
       "    </tr>\n",
       "    <tr>\n",
       "      <th>10</th>\n",
       "      <td>(Irrelevant, TreeSHAP)</td>\n",
       "      <td>0.051880</td>\n",
       "    </tr>\n",
       "    <tr>\n",
       "      <th>11</th>\n",
       "      <td>(Irrelevant, LIME)</td>\n",
       "      <td>0.000001</td>\n",
       "    </tr>\n",
       "    <tr>\n",
       "      <th>13</th>\n",
       "      <td>(LIME, TreeSHAP)</td>\n",
       "      <td>0.003474</td>\n",
       "    </tr>\n",
       "    <tr>\n",
       "      <th>15</th>\n",
       "      <td>(TreeSHAP, TreeInt)</td>\n",
       "      <td>0.060252</td>\n",
       "    </tr>\n",
       "  </tbody>\n",
       "</table>\n",
       "</div>"
      ],
      "text/plain": [
       "                comparison     p-val\n",
       "0         (Data, ML Model)  0.000001\n",
       "1         (ML Model, LIME)  0.000022\n",
       "2      (ML Model, TreeInt)  0.001345\n",
       "6        (Random, TreeInt)  0.001954\n",
       "8           (Random, LIME)  0.000036\n",
       "9    (Irrelevant, TreeInt)  0.000142\n",
       "10  (Irrelevant, TreeSHAP)  0.051880\n",
       "11      (Irrelevant, LIME)  0.000001\n",
       "13        (LIME, TreeSHAP)  0.003474\n",
       "15     (TreeSHAP, TreeInt)  0.060252"
      ]
     },
     "execution_count": 36,
     "metadata": {},
     "output_type": "execute_result"
    }
   ],
   "source": [
    "df = p_val_dfs[0]\n",
    "msk = df['p-val'] < 0.1\n",
    "df[msk]"
   ]
  },
  {
   "cell_type": "markdown",
   "metadata": {},
   "source": [
    "#### Question 2 -- Information"
   ]
  },
  {
   "cell_type": "code",
   "execution_count": 35,
   "metadata": {},
   "outputs": [
    {
     "data": {
      "text/html": [
       "<div>\n",
       "<style scoped>\n",
       "    .dataframe tbody tr th:only-of-type {\n",
       "        vertical-align: middle;\n",
       "    }\n",
       "\n",
       "    .dataframe tbody tr th {\n",
       "        vertical-align: top;\n",
       "    }\n",
       "\n",
       "    .dataframe thead th {\n",
       "        text-align: right;\n",
       "    }\n",
       "</style>\n",
       "<table border=\"1\" class=\"dataframe\">\n",
       "  <thead>\n",
       "    <tr style=\"text-align: right;\">\n",
       "      <th></th>\n",
       "      <th>group</th>\n",
       "      <th>top_bucket_pct</th>\n",
       "    </tr>\n",
       "  </thead>\n",
       "  <tbody>\n",
       "    <tr>\n",
       "      <th>2</th>\n",
       "      <td>LIME</td>\n",
       "      <td>0.682000</td>\n",
       "    </tr>\n",
       "    <tr>\n",
       "      <th>6</th>\n",
       "      <td>TreeSHAP</td>\n",
       "      <td>0.641283</td>\n",
       "    </tr>\n",
       "    <tr>\n",
       "      <th>5</th>\n",
       "      <td>TreeInt</td>\n",
       "      <td>0.595960</td>\n",
       "    </tr>\n",
       "    <tr>\n",
       "      <th>3</th>\n",
       "      <td>ML Model</td>\n",
       "      <td>0.536290</td>\n",
       "    </tr>\n",
       "    <tr>\n",
       "      <th>0</th>\n",
       "      <td>Data</td>\n",
       "      <td>0.438134</td>\n",
       "    </tr>\n",
       "    <tr>\n",
       "      <th>4</th>\n",
       "      <td>Random</td>\n",
       "      <td>0.244000</td>\n",
       "    </tr>\n",
       "    <tr>\n",
       "      <th>1</th>\n",
       "      <td>Irrelevant</td>\n",
       "      <td>0.200401</td>\n",
       "    </tr>\n",
       "  </tbody>\n",
       "</table>\n",
       "</div>"
      ],
      "text/plain": [
       "        group  top_bucket_pct\n",
       "2        LIME        0.682000\n",
       "6    TreeSHAP        0.641283\n",
       "5     TreeInt        0.595960\n",
       "3    ML Model        0.536290\n",
       "0        Data        0.438134\n",
       "4      Random        0.244000\n",
       "1  Irrelevant        0.200401"
      ]
     },
     "execution_count": 35,
     "metadata": {},
     "output_type": "execute_result"
    }
   ],
   "source": [
    "results_dfs[1]"
   ]
  },
  {
   "cell_type": "code",
   "execution_count": 37,
   "metadata": {},
   "outputs": [
    {
     "data": {
      "text/html": [
       "<div>\n",
       "<style scoped>\n",
       "    .dataframe tbody tr th:only-of-type {\n",
       "        vertical-align: middle;\n",
       "    }\n",
       "\n",
       "    .dataframe tbody tr th {\n",
       "        vertical-align: top;\n",
       "    }\n",
       "\n",
       "    .dataframe thead th {\n",
       "        text-align: right;\n",
       "    }\n",
       "</style>\n",
       "<table border=\"1\" class=\"dataframe\">\n",
       "  <thead>\n",
       "    <tr style=\"text-align: right;\">\n",
       "      <th></th>\n",
       "      <th>comparison</th>\n",
       "      <th>p-val</th>\n",
       "    </tr>\n",
       "  </thead>\n",
       "  <tbody>\n",
       "    <tr>\n",
       "      <th>0</th>\n",
       "      <td>(Data, ML Model)</td>\n",
       "      <td>0.002016</td>\n",
       "    </tr>\n",
       "    <tr>\n",
       "      <th>1</th>\n",
       "      <td>(ML Model, LIME)</td>\n",
       "      <td>0.000002</td>\n",
       "    </tr>\n",
       "    <tr>\n",
       "      <th>2</th>\n",
       "      <td>(ML Model, TreeInt)</td>\n",
       "      <td>0.058089</td>\n",
       "    </tr>\n",
       "    <tr>\n",
       "      <th>3</th>\n",
       "      <td>(ML Model, TreeSHAP)</td>\n",
       "      <td>0.000764</td>\n",
       "    </tr>\n",
       "    <tr>\n",
       "      <th>4</th>\n",
       "      <td>(ML Model, Random)</td>\n",
       "      <td>0.000000</td>\n",
       "    </tr>\n",
       "    <tr>\n",
       "      <th>5</th>\n",
       "      <td>(ML Model, Irrelevant)</td>\n",
       "      <td>0.000000</td>\n",
       "    </tr>\n",
       "    <tr>\n",
       "      <th>6</th>\n",
       "      <td>(Random, TreeInt)</td>\n",
       "      <td>0.000000</td>\n",
       "    </tr>\n",
       "    <tr>\n",
       "      <th>7</th>\n",
       "      <td>(Random, TreeSHAP)</td>\n",
       "      <td>0.000000</td>\n",
       "    </tr>\n",
       "    <tr>\n",
       "      <th>8</th>\n",
       "      <td>(Random, LIME)</td>\n",
       "      <td>0.000000</td>\n",
       "    </tr>\n",
       "    <tr>\n",
       "      <th>9</th>\n",
       "      <td>(Irrelevant, TreeInt)</td>\n",
       "      <td>0.000000</td>\n",
       "    </tr>\n",
       "    <tr>\n",
       "      <th>10</th>\n",
       "      <td>(Irrelevant, TreeSHAP)</td>\n",
       "      <td>0.000000</td>\n",
       "    </tr>\n",
       "    <tr>\n",
       "      <th>11</th>\n",
       "      <td>(Irrelevant, LIME)</td>\n",
       "      <td>0.000000</td>\n",
       "    </tr>\n",
       "    <tr>\n",
       "      <th>12</th>\n",
       "      <td>(Irrelevant, Random)</td>\n",
       "      <td>0.097452</td>\n",
       "    </tr>\n",
       "    <tr>\n",
       "      <th>14</th>\n",
       "      <td>(LIME, TreeInt)</td>\n",
       "      <td>0.004718</td>\n",
       "    </tr>\n",
       "  </tbody>\n",
       "</table>\n",
       "</div>"
      ],
      "text/plain": [
       "                comparison     p-val\n",
       "0         (Data, ML Model)  0.002016\n",
       "1         (ML Model, LIME)  0.000002\n",
       "2      (ML Model, TreeInt)  0.058089\n",
       "3     (ML Model, TreeSHAP)  0.000764\n",
       "4       (ML Model, Random)  0.000000\n",
       "5   (ML Model, Irrelevant)  0.000000\n",
       "6        (Random, TreeInt)  0.000000\n",
       "7       (Random, TreeSHAP)  0.000000\n",
       "8           (Random, LIME)  0.000000\n",
       "9    (Irrelevant, TreeInt)  0.000000\n",
       "10  (Irrelevant, TreeSHAP)  0.000000\n",
       "11      (Irrelevant, LIME)  0.000000\n",
       "12    (Irrelevant, Random)  0.097452\n",
       "14         (LIME, TreeInt)  0.004718"
      ]
     },
     "execution_count": 37,
     "metadata": {},
     "output_type": "execute_result"
    }
   ],
   "source": [
    "df = p_val_dfs[1]\n",
    "msk = df['p-val'] < 0.1\n",
    "df[msk]"
   ]
  },
  {
   "cell_type": "markdown",
   "metadata": {},
   "source": [
    "#### Plotting the answer percentages for both questions across experiment arms"
   ]
  },
  {
   "cell_type": "code",
   "execution_count": 15,
   "metadata": {},
   "outputs": [],
   "source": [
    "questions = df_all.groupby('question')"
   ]
  },
  {
   "cell_type": "code",
   "execution_count": 16,
   "metadata": {},
   "outputs": [],
   "source": [
    "answer_pct_dict = dict()\n",
    "\n",
    "for q, question_df in questions:\n",
    "    answer_pct_dict[q] = dict()\n",
    "    \n",
    "    grps = question_df.groupby('group')\n",
    "    \n",
    "    for g, df in grps:\n",
    "        n = len(df)\n",
    "        answer_counts = df['normalized_answer'].value_counts()\n",
    "        answer_pct_dict[q][g] = {\n",
    "            key: value / n for key, value in answer_counts.items()\n",
    "        }"
   ]
  },
  {
   "cell_type": "code",
   "execution_count": 17,
   "metadata": {},
   "outputs": [],
   "source": [
    "# data_dict"
   ]
  },
  {
   "cell_type": "code",
   "execution_count": 45,
   "metadata": {},
   "outputs": [
    {
     "data": {
      "image/png": "[encoded data removed]",
      "text/plain": [
       "<Figure size 800x400 with 1 Axes>"
      ]
     },
     "metadata": {
      "needs_background": "light"
     },
     "output_type": "display_data"
    },
    {
     "data": {
      "image/png": "[encoded data removed]",
      "text/plain": [
       "<Figure size 800x400 with 1 Axes>"
      ]
     },
     "metadata": {
      "needs_background": "light"
     },
     "output_type": "display_data"
    }
   ],
   "source": [
    "for question, ddict in answer_pct_dict.items():\n",
    "    fig, ax = plt.subplots(figsize=(4, 2), dpi=200)\n",
    "    if question == \"How confident are you in your classification?\":\n",
    "        labels = ['1 \\n Not confident', '2','3', '4', '5\\n I\\'m sure']\n",
    "        save_target = 'results/figures_for_paper/confidence_answers.pdf'\n",
    "        legend_loc=None\n",
    "    elif question == \"Did you have enough information to make a decision?\":\n",
    "        labels = ['1 \\n Not at all', '2','3', '4', '5\\n Absolutely']\n",
    "        save_target = 'results/figures_for_paper/information_answers.pdf'\n",
    "        legend_loc=(0.25,1)\n",
    "#         legend_loc=None\n",
    "    else:\n",
    "        labels = []\n",
    "\n",
    "    for i, g in enumerate(group_order):\n",
    "        data = ddict[g]\n",
    "        keys = sorted(data)\n",
    "        x = np.arange(len(labels)) + 1\n",
    "        y = [data.get(value, 0) for value in x]\n",
    "        width = 1/9\n",
    "\n",
    "        ax.set_title(question, fontsize=8)\n",
    "        ax.bar(\n",
    "            x + (i* width),\n",
    "            y, width, label=g, \n",
    "            edgecolor='k', \n",
    "            linewidth=0.5, color=colors[i]\n",
    "        )\n",
    "    \n",
    "    ax.set_ylim([0, 0.8])\n",
    "    ax.set_xticks(x+0.33)\n",
    "    ax.set_xticklabels(labels, size=6)\n",
    "    ax.tick_params(axis='both', labelsize=6)\n",
    "    ax.xaxis.grid(False)\n",
    "    ax.yaxis.grid(False)\n",
    "    ax.spines['bottom'].set_color('0')\n",
    "    ax.spines['top'].set_color(None)\n",
    "    ax.spines['left'].set_color('0')\n",
    "    ax.spines['right'].set_color(None)\n",
    "    ax.legend(fontsize=6, frameon=False, bbox_to_anchor=legend_loc, labelspacing=0.3)\n",
    "    plt.savefig(\n",
    "        save_target, format='pdf', bbox_inches='tight'\n",
    "    )"
   ]
  },
  {
   "cell_type": "code",
   "execution_count": null,
   "metadata": {},
   "outputs": [],
   "source": []
  }
 ],
 "metadata": {
  "kernelspec": {
   "display_name": "ducktales",
   "language": "python",
   "name": "ducktales"
  },
  "language_info": {
   "codemirror_mode": {
    "name": "ipython",
    "version": 3
   },
   "file_extension": ".py",
   "mimetype": "text/x-python",
   "name": "python",
   "nbconvert_exporter": "python",
   "pygments_lexer": "ipython3",
   "version": "3.6.9"
  }
 },
 "nbformat": 4,
 "nbformat_minor": 4
}
