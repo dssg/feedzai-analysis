{
 "cells": [
  {
   "cell_type": "code",
   "execution_count": 1,
   "id": "6716240c-6bea-41a9-b727-27d08d8005d9",
   "metadata": {},
   "outputs": [],
   "source": [
    "import os\n",
    "import sys\n",
    "sys.path.append('../../')"
   ]
  },
  {
   "cell_type": "code",
   "execution_count": 41,
   "id": "2c36193b-d276-4d0c-bb0f-e850f6a85d98",
   "metadata": {},
   "outputs": [],
   "source": [
    "import pandas as pd\n",
    "from src.utils import get_db_con\n",
    "from src.analysis_functions import (\n",
    "    get_all_decisions, groups, schemas, users, dps, dt, pdr, group_order, colors, \n",
    "    assign_conf_mat_cell, _modify_value_and_time\n",
    ")"
   ]
  },
  {
   "cell_type": "code",
   "execution_count": 3,
   "id": "7119f2f9-7987-4a52-8977-5a19e442699e",
   "metadata": {},
   "outputs": [],
   "source": [
    "from sklearn.linear_model import LinearRegression, Lasso, Ridge\n",
    "from sklearn.preprocessing import MinMaxScaler\n",
    "from sklearn.model_selection import train_test_split"
   ]
  },
  {
   "cell_type": "code",
   "execution_count": 4,
   "id": "c408d2af-18fa-4f8e-9b0f-71b07c392c6a",
   "metadata": {},
   "outputs": [],
   "source": [
    "cred_file = '../../conf/credentials.yaml'\n",
    "conn = get_db_con(cred_file)"
   ]
  },
  {
   "cell_type": "markdown",
   "id": "53a6e445-cef6-4fa4-bd4d-1b96398e1289",
   "metadata": {},
   "source": [
    "#### Fetch All transactions/decisions"
   ]
  },
  {
   "cell_type": "code",
   "execution_count": 9,
   "id": "c61db919-f44f-4959-aa30-10d909fd09d4",
   "metadata": {},
   "outputs": [],
   "source": [
    "%%capture\n",
    "all_decisions = get_all_decisions(conn, schemas, users, groups)"
   ]
  },
  {
   "cell_type": "code",
   "execution_count": 10,
   "id": "da3597be-edda-4b0d-8763-c2b19922f06d",
   "metadata": {},
   "outputs": [
    {
     "data": {
      "text/html": [
       "<div>\n",
       "<style scoped>\n",
       "    .dataframe tbody tr th:only-of-type {\n",
       "        vertical-align: middle;\n",
       "    }\n",
       "\n",
       "    .dataframe tbody tr th {\n",
       "        vertical-align: top;\n",
       "    }\n",
       "\n",
       "    .dataframe thead th {\n",
       "        text-align: right;\n",
       "    }\n",
       "</style>\n",
       "<table border=\"1\" class=\"dataframe\">\n",
       "  <thead>\n",
       "    <tr style=\"text-align: right;\">\n",
       "      <th></th>\n",
       "      <th>xplz_id</th>\n",
       "      <th>group</th>\n",
       "      <th>user_name</th>\n",
       "      <th>trx_amnt</th>\n",
       "      <th>decision</th>\n",
       "      <th>decision_time</th>\n",
       "      <th>label</th>\n",
       "    </tr>\n",
       "  </thead>\n",
       "  <tbody>\n",
       "    <tr>\n",
       "      <th>0</th>\n",
       "      <td>0005e73512cc6b51164de77a492947cb</td>\n",
       "      <td>ML Model</td>\n",
       "      <td>j</td>\n",
       "      <td>206.86</td>\n",
       "      <td>approved</td>\n",
       "      <td>24</td>\n",
       "      <td>0.0</td>\n",
       "    </tr>\n",
       "    <tr>\n",
       "      <th>1</th>\n",
       "      <td>00199cf0e179eee21bbc464dfdd26695</td>\n",
       "      <td>Irrelevant</td>\n",
       "      <td>n</td>\n",
       "      <td>102.69</td>\n",
       "      <td>approved</td>\n",
       "      <td>126</td>\n",
       "      <td>1.0</td>\n",
       "    </tr>\n",
       "    <tr>\n",
       "      <th>2</th>\n",
       "      <td>0023ade89e3b6dedae14bced27d2e02a</td>\n",
       "      <td>Data</td>\n",
       "      <td>n</td>\n",
       "      <td>88.78</td>\n",
       "      <td>approved</td>\n",
       "      <td>61</td>\n",
       "      <td>0.0</td>\n",
       "    </tr>\n",
       "    <tr>\n",
       "      <th>3</th>\n",
       "      <td>0053a4cc33ce725779c115d4c8fe392b</td>\n",
       "      <td>ML Model</td>\n",
       "      <td>j</td>\n",
       "      <td>137.94</td>\n",
       "      <td>approved</td>\n",
       "      <td>8</td>\n",
       "      <td>0.0</td>\n",
       "    </tr>\n",
       "    <tr>\n",
       "      <th>4</th>\n",
       "      <td>005ba4ef23b2226267fe9ab620fe1d10</td>\n",
       "      <td>Irrelevant</td>\n",
       "      <td>t</td>\n",
       "      <td>190.00</td>\n",
       "      <td>approved</td>\n",
       "      <td>39</td>\n",
       "      <td>0.0</td>\n",
       "    </tr>\n",
       "  </tbody>\n",
       "</table>\n",
       "</div>"
      ],
      "text/plain": [
       "                            xplz_id       group user_name  trx_amnt  decision  \\\n",
       "0  0005e73512cc6b51164de77a492947cb    ML Model         j    206.86  approved   \n",
       "1  00199cf0e179eee21bbc464dfdd26695  Irrelevant         n    102.69  approved   \n",
       "2  0023ade89e3b6dedae14bced27d2e02a        Data         n     88.78  approved   \n",
       "3  0053a4cc33ce725779c115d4c8fe392b    ML Model         j    137.94  approved   \n",
       "4  005ba4ef23b2226267fe9ab620fe1d10  Irrelevant         t    190.00  approved   \n",
       "\n",
       "   decision_time  label  \n",
       "0             24    0.0  \n",
       "1            126    1.0  \n",
       "2             61    0.0  \n",
       "3              8    0.0  \n",
       "4             39    0.0  "
      ]
     },
     "execution_count": 10,
     "metadata": {},
     "output_type": "execute_result"
    }
   ],
   "source": [
    "all_decisions.head()"
   ]
  },
  {
   "cell_type": "code",
   "execution_count": 92,
   "id": "7f0dc5ce-49b6-480a-89dd-24fd9e65cd92",
   "metadata": {},
   "outputs": [
    {
     "data": {
      "text/plain": [
       "<AxesSubplot: >"
      ]
     },
     "execution_count": 92,
     "metadata": {},
     "output_type": "execute_result"
    },
    {
     "data": {
      "image/png": "[encoded data removed]",
      "text/plain": [
       "<Figure size 640x480 with 1 Axes>"
      ]
     },
     "metadata": {},
     "output_type": "display_data"
    }
   ],
   "source": [
    "all_decisions.decision_time.hist(bins=100)"
   ]
  },
  {
   "cell_type": "code",
   "execution_count": 48,
   "id": "8366de66-b345-4592-9fde-66a7486a6221",
   "metadata": {},
   "outputs": [],
   "source": [
    "all_decisions['conf_cell'] = assign_conf_mat_cell(all_decisions, suspicious_strategy='correct') "
   ]
  },
  {
   "cell_type": "code",
   "execution_count": 49,
   "id": "ef19f8d4-ef6b-4888-845d-cc15f9693960",
   "metadata": {},
   "outputs": [],
   "source": [
    "params={\n",
    "    'fn': -3, \n",
    "    'p_loss_trx': 0.5, # prob of losing this transaction\n",
    "    'cust_worth': 3, # The long term customer worth as a coefficiant of the trx val\n",
    "    'p_loss_cust': 0.1, # probablity of losing the customer due to the rejection\n",
    "    'p_return_cust': 1, # probability of the customer creating future worth as we expect\n",
    "    'suspicious_add_time': 600\n",
    "}"
   ]
  },
  {
   "cell_type": "code",
   "execution_count": 50,
   "id": "236b0595-8499-4df7-a65b-0a00b129bd17",
   "metadata": {},
   "outputs": [],
   "source": [
    "all_decisions = _modify_value_and_time(all_decisions, params, 'correct')"
   ]
  },
  {
   "cell_type": "code",
   "execution_count": 80,
   "id": "b4a078d2-ea52-4632-b6d7-d5cd24bd001d",
   "metadata": {},
   "outputs": [],
   "source": [
    "msk = all_decisions['trx_amnt'] > 0 \n",
    "all_decisions = all_decisions[msk]"
   ]
  },
  {
   "cell_type": "code",
   "execution_count": 81,
   "id": "262aaf47-5f72-41ec-b7b5-663579b01c33",
   "metadata": {},
   "outputs": [
    {
     "name": "stderr",
     "output_type": "stream",
     "text": [
      "/tmp/ipykernel_31878/3701354669.py:1: SettingWithCopyWarning: \n",
      "A value is trying to be set on a copy of a slice from a DataFrame.\n",
      "Try using .loc[row_indexer,col_indexer] = value instead\n",
      "\n",
      "See the caveats in the documentation: https://pandas.pydata.org/pandas-docs/stable/user_guide/indexing.html#returning-a-view-versus-a-copy\n",
      "  all_decisions['potential_revenue'] = all_decisions.apply(\n"
     ]
    }
   ],
   "source": [
    "all_decisions['potential_revenue'] = all_decisions.apply(\n",
    "    lambda x: x['trx_amnt'] * (1 + (params['cust_worth'] * params['p_return_cust'])) if x['label']==0 else 0, \n",
    "    axis=1\n",
    ")"
   ]
  },
  {
   "cell_type": "code",
   "execution_count": 83,
   "id": "e276b4a8-4d5f-4646-8c57-46ea413b3215",
   "metadata": {},
   "outputs": [
    {
     "name": "stderr",
     "output_type": "stream",
     "text": [
      "/tmp/ipykernel_31878/3602972955.py:1: SettingWithCopyWarning: \n",
      "A value is trying to be set on a copy of a slice from a DataFrame.\n",
      "Try using .loc[row_indexer,col_indexer] = value instead\n",
      "\n",
      "See the caveats in the documentation: https://pandas.pydata.org/pandas-docs/stable/user_guide/indexing.html#returning-a-view-versus-a-copy\n",
      "  all_decisions['regret'] = all_decisions.apply(\n"
     ]
    }
   ],
   "source": [
    "all_decisions['regret'] = all_decisions.apply(\n",
    "    lambda x: 1 - (x['decision_value'] / x['potential_revenue']) if x['label']==0 else 0, \n",
    "    axis=1\n",
    ")\n",
    "# 1 - all_decisions['decision_value'] / all_decisions['decision_value']"
   ]
  },
  {
   "cell_type": "code",
   "execution_count": 87,
   "id": "f5ee340a-1079-4fe9-aa89-a2aac1b0634f",
   "metadata": {},
   "outputs": [],
   "source": [
    "msk = all_decisions['decision_value'] < 0\n",
    "all_decisions.loc[msk, 'regret'] = 1"
   ]
  },
  {
   "cell_type": "code",
   "execution_count": 88,
   "id": "4e11049e-7198-43a6-9677-6f566da3248c",
   "metadata": {},
   "outputs": [
    {
     "data": {
      "text/html": [
       "<div>\n",
       "<style scoped>\n",
       "    .dataframe tbody tr th:only-of-type {\n",
       "        vertical-align: middle;\n",
       "    }\n",
       "\n",
       "    .dataframe tbody tr th {\n",
       "        vertical-align: top;\n",
       "    }\n",
       "\n",
       "    .dataframe thead th {\n",
       "        text-align: right;\n",
       "    }\n",
       "</style>\n",
       "<table border=\"1\" class=\"dataframe\">\n",
       "  <thead>\n",
       "    <tr style=\"text-align: right;\">\n",
       "      <th></th>\n",
       "      <th>xplz_id</th>\n",
       "      <th>group</th>\n",
       "      <th>user_name</th>\n",
       "      <th>trx_amnt</th>\n",
       "      <th>decision</th>\n",
       "      <th>decision_time</th>\n",
       "      <th>label</th>\n",
       "      <th>conf_cell</th>\n",
       "      <th>conf_mat</th>\n",
       "      <th>decision_value</th>\n",
       "      <th>modified_time</th>\n",
       "      <th>potential_revenue</th>\n",
       "      <th>regret</th>\n",
       "    </tr>\n",
       "  </thead>\n",
       "  <tbody>\n",
       "    <tr>\n",
       "      <th>0</th>\n",
       "      <td>0005e73512cc6b51164de77a492947cb</td>\n",
       "      <td>ML Model</td>\n",
       "      <td>j</td>\n",
       "      <td>206.86</td>\n",
       "      <td>approved</td>\n",
       "      <td>24</td>\n",
       "      <td>0.0</td>\n",
       "      <td>tn</td>\n",
       "      <td>tn</td>\n",
       "      <td>827.44</td>\n",
       "      <td>24</td>\n",
       "      <td>827.44</td>\n",
       "      <td>0.0</td>\n",
       "    </tr>\n",
       "    <tr>\n",
       "      <th>1</th>\n",
       "      <td>00199cf0e179eee21bbc464dfdd26695</td>\n",
       "      <td>Irrelevant</td>\n",
       "      <td>n</td>\n",
       "      <td>102.69</td>\n",
       "      <td>approved</td>\n",
       "      <td>126</td>\n",
       "      <td>1.0</td>\n",
       "      <td>fn</td>\n",
       "      <td>fn</td>\n",
       "      <td>-308.07</td>\n",
       "      <td>126</td>\n",
       "      <td>0.00</td>\n",
       "      <td>1.0</td>\n",
       "    </tr>\n",
       "    <tr>\n",
       "      <th>2</th>\n",
       "      <td>0023ade89e3b6dedae14bced27d2e02a</td>\n",
       "      <td>Data</td>\n",
       "      <td>n</td>\n",
       "      <td>88.78</td>\n",
       "      <td>approved</td>\n",
       "      <td>61</td>\n",
       "      <td>0.0</td>\n",
       "      <td>tn</td>\n",
       "      <td>tn</td>\n",
       "      <td>355.12</td>\n",
       "      <td>61</td>\n",
       "      <td>355.12</td>\n",
       "      <td>0.0</td>\n",
       "    </tr>\n",
       "    <tr>\n",
       "      <th>3</th>\n",
       "      <td>0053a4cc33ce725779c115d4c8fe392b</td>\n",
       "      <td>ML Model</td>\n",
       "      <td>j</td>\n",
       "      <td>137.94</td>\n",
       "      <td>approved</td>\n",
       "      <td>8</td>\n",
       "      <td>0.0</td>\n",
       "      <td>tn</td>\n",
       "      <td>tn</td>\n",
       "      <td>551.76</td>\n",
       "      <td>8</td>\n",
       "      <td>551.76</td>\n",
       "      <td>0.0</td>\n",
       "    </tr>\n",
       "    <tr>\n",
       "      <th>4</th>\n",
       "      <td>005ba4ef23b2226267fe9ab620fe1d10</td>\n",
       "      <td>Irrelevant</td>\n",
       "      <td>t</td>\n",
       "      <td>190.00</td>\n",
       "      <td>approved</td>\n",
       "      <td>39</td>\n",
       "      <td>0.0</td>\n",
       "      <td>tn</td>\n",
       "      <td>tn</td>\n",
       "      <td>760.00</td>\n",
       "      <td>39</td>\n",
       "      <td>760.00</td>\n",
       "      <td>0.0</td>\n",
       "    </tr>\n",
       "    <tr>\n",
       "      <th>...</th>\n",
       "      <td>...</td>\n",
       "      <td>...</td>\n",
       "      <td>...</td>\n",
       "      <td>...</td>\n",
       "      <td>...</td>\n",
       "      <td>...</td>\n",
       "      <td>...</td>\n",
       "      <td>...</td>\n",
       "      <td>...</td>\n",
       "      <td>...</td>\n",
       "      <td>...</td>\n",
       "      <td>...</td>\n",
       "      <td>...</td>\n",
       "    </tr>\n",
       "    <tr>\n",
       "      <th>3475</th>\n",
       "      <td>ff77551516ec6697d57a3cd27b0f3a83</td>\n",
       "      <td>TreeInt</td>\n",
       "      <td>j</td>\n",
       "      <td>128.00</td>\n",
       "      <td>approved</td>\n",
       "      <td>4</td>\n",
       "      <td>0.0</td>\n",
       "      <td>tn</td>\n",
       "      <td>tn</td>\n",
       "      <td>512.00</td>\n",
       "      <td>4</td>\n",
       "      <td>512.00</td>\n",
       "      <td>0.0</td>\n",
       "    </tr>\n",
       "    <tr>\n",
       "      <th>3476</th>\n",
       "      <td>ff870623958495f4db39fdc9410e379f</td>\n",
       "      <td>Random</td>\n",
       "      <td>t</td>\n",
       "      <td>800.00</td>\n",
       "      <td>approved</td>\n",
       "      <td>19</td>\n",
       "      <td>0.0</td>\n",
       "      <td>tn</td>\n",
       "      <td>tn</td>\n",
       "      <td>3200.00</td>\n",
       "      <td>19</td>\n",
       "      <td>3200.00</td>\n",
       "      <td>0.0</td>\n",
       "    </tr>\n",
       "    <tr>\n",
       "      <th>3477</th>\n",
       "      <td>ff90b767a3da182e3399ee8ad856fa12</td>\n",
       "      <td>TreeInt</td>\n",
       "      <td>n</td>\n",
       "      <td>353.31</td>\n",
       "      <td>approved</td>\n",
       "      <td>60</td>\n",
       "      <td>0.0</td>\n",
       "      <td>tn</td>\n",
       "      <td>tn</td>\n",
       "      <td>1413.24</td>\n",
       "      <td>60</td>\n",
       "      <td>1413.24</td>\n",
       "      <td>0.0</td>\n",
       "    </tr>\n",
       "    <tr>\n",
       "      <th>3479</th>\n",
       "      <td>fff66c84678648b09168e4a635f276f3</td>\n",
       "      <td>TreeInt</td>\n",
       "      <td>t</td>\n",
       "      <td>319.31</td>\n",
       "      <td>declined</td>\n",
       "      <td>45</td>\n",
       "      <td>1.0</td>\n",
       "      <td>tp</td>\n",
       "      <td>tp</td>\n",
       "      <td>0.00</td>\n",
       "      <td>45</td>\n",
       "      <td>0.00</td>\n",
       "      <td>0.0</td>\n",
       "    </tr>\n",
       "    <tr>\n",
       "      <th>3480</th>\n",
       "      <td>fffe09434d0438927a6fb9785a2c6209</td>\n",
       "      <td>TreeInt</td>\n",
       "      <td>t</td>\n",
       "      <td>250.25</td>\n",
       "      <td>approved</td>\n",
       "      <td>12</td>\n",
       "      <td>0.0</td>\n",
       "      <td>tn</td>\n",
       "      <td>tn</td>\n",
       "      <td>1001.00</td>\n",
       "      <td>12</td>\n",
       "      <td>1001.00</td>\n",
       "      <td>0.0</td>\n",
       "    </tr>\n",
       "  </tbody>\n",
       "</table>\n",
       "<p>3475 rows × 13 columns</p>\n",
       "</div>"
      ],
      "text/plain": [
       "                               xplz_id       group user_name  trx_amnt  \\\n",
       "0     0005e73512cc6b51164de77a492947cb    ML Model         j    206.86   \n",
       "1     00199cf0e179eee21bbc464dfdd26695  Irrelevant         n    102.69   \n",
       "2     0023ade89e3b6dedae14bced27d2e02a        Data         n     88.78   \n",
       "3     0053a4cc33ce725779c115d4c8fe392b    ML Model         j    137.94   \n",
       "4     005ba4ef23b2226267fe9ab620fe1d10  Irrelevant         t    190.00   \n",
       "...                                ...         ...       ...       ...   \n",
       "3475  ff77551516ec6697d57a3cd27b0f3a83     TreeInt         j    128.00   \n",
       "3476  ff870623958495f4db39fdc9410e379f      Random         t    800.00   \n",
       "3477  ff90b767a3da182e3399ee8ad856fa12     TreeInt         n    353.31   \n",
       "3479  fff66c84678648b09168e4a635f276f3     TreeInt         t    319.31   \n",
       "3480  fffe09434d0438927a6fb9785a2c6209     TreeInt         t    250.25   \n",
       "\n",
       "      decision  decision_time  label conf_cell conf_mat  decision_value  \\\n",
       "0     approved             24    0.0        tn       tn          827.44   \n",
       "1     approved            126    1.0        fn       fn         -308.07   \n",
       "2     approved             61    0.0        tn       tn          355.12   \n",
       "3     approved              8    0.0        tn       tn          551.76   \n",
       "4     approved             39    0.0        tn       tn          760.00   \n",
       "...        ...            ...    ...       ...      ...             ...   \n",
       "3475  approved              4    0.0        tn       tn          512.00   \n",
       "3476  approved             19    0.0        tn       tn         3200.00   \n",
       "3477  approved             60    0.0        tn       tn         1413.24   \n",
       "3479  declined             45    1.0        tp       tp            0.00   \n",
       "3480  approved             12    0.0        tn       tn         1001.00   \n",
       "\n",
       "      modified_time  potential_revenue  regret  \n",
       "0                24             827.44     0.0  \n",
       "1               126               0.00     1.0  \n",
       "2                61             355.12     0.0  \n",
       "3                 8             551.76     0.0  \n",
       "4                39             760.00     0.0  \n",
       "...             ...                ...     ...  \n",
       "3475              4             512.00     0.0  \n",
       "3476             19            3200.00     0.0  \n",
       "3477             60            1413.24     0.0  \n",
       "3479             45               0.00     0.0  \n",
       "3480             12            1001.00     0.0  \n",
       "\n",
       "[3475 rows x 13 columns]"
      ]
     },
     "execution_count": 88,
     "metadata": {},
     "output_type": "execute_result"
    }
   ],
   "source": [
    "all_decisions"
   ]
  },
  {
   "cell_type": "markdown",
   "id": "46be3f7b-cf2a-4edc-b620-2cf0d4c82d06",
   "metadata": {},
   "source": [
    "## Hypotheses\n",
    "trx_amnt tested several hypotheses\n",
    "- Model vs Data\n",
    "- Each explainer vs model\n",
    "- Each explainer against each other\n",
    "- Each explainer vs radom/irrelevant\n"
   ]
  },
  {
   "cell_type": "markdown",
   "id": "c1b0409d-021f-4bc8-befc-fa3e5bca5d0b",
   "metadata": {
    "tags": []
   },
   "source": [
    "### Decision Time"
   ]
  },
  {
   "cell_type": "code",
   "execution_count": 62,
   "id": "f65d60ff-b5ea-4158-98ce-35d6b1e946be",
   "metadata": {},
   "outputs": [],
   "source": [
    "def fit_linear_model_for_pairwise_test(all_decisions, variants_to_compare, column, linear_model):\n",
    "    relevant_features = ['user_name', 'group', column, 'trx_amnt']\n",
    "    \n",
    "    group1 = variants_to_compare[0]\n",
    "    group2 = variants_to_compare[1]\n",
    "    \n",
    "    row_filter = (all_decisions['group'] == group1) | (all_decisions['group'] == group2)\n",
    "    \n",
    "    df = all_decisions[row_filter][relevant_features]\n",
    "    dummified = pd.get_dummies(df)\n",
    "    \n",
    "    y = dummified[column]\n",
    "    X = dummified.drop(columns=column)\n",
    "\n",
    "    scaler = MinMaxScaler().fit(X)\n",
    "    x_scaled = scaler.transform(X)\n",
    "    \n",
    "    mod = linear_model.fit(x_scaled, y)\n",
    "\n",
    "    feature_importance = dict()\n",
    "    for i in range(mod.coef_.shape[0]):\n",
    "        feature_importance[X.columns[i]] = mod.coef_[i]\n",
    "    \n",
    "    \n",
    "    return pd.Series(feature_importance).sort_values()\n",
    "    \n",
    "    "
   ]
  },
  {
   "cell_type": "code",
   "execution_count": 64,
   "id": "c493f831-c235-41b0-912c-2ee3c454448b",
   "metadata": {},
   "outputs": [
    {
     "data": {
      "text/plain": [
       "user_name_j      -30.371420\n",
       "group_ML Model   -13.937145\n",
       "user_name_n       13.512918\n",
       "group_Data        13.937145\n",
       "user_name_t       16.858503\n",
       "trx_amnt          41.982625\n",
       "dtype: float64"
      ]
     },
     "execution_count": 64,
     "metadata": {},
     "output_type": "execute_result"
    }
   ],
   "source": [
    "fit_linear_model_for_pairwise_test(all_decisions, ('ML Model', 'Data'), 'modified_time', Ridge())"
   ]
  },
  {
   "cell_type": "code",
   "execution_count": 65,
   "id": "9d11250d-2612-4392-b540-7484c0babd78",
   "metadata": {},
   "outputs": [
    {
     "data": {
      "text/plain": [
       "user_name_j      -24.300472\n",
       "group_ML Model    -7.950530\n",
       "user_name_n        6.185428\n",
       "group_TreeSHAP     7.950530\n",
       "user_name_t       18.115044\n",
       "trx_amnt          83.052338\n",
       "dtype: float64"
      ]
     },
     "execution_count": 65,
     "metadata": {},
     "output_type": "execute_result"
    }
   ],
   "source": [
    "fit_linear_model_for_pairwise_test(all_decisions, ('TreeSHAP', 'ML Model'), 'modified_time', Ridge())"
   ]
  },
  {
   "cell_type": "code",
   "execution_count": 66,
   "id": "b7253fe4-5b23-4112-b5c5-f79391a097be",
   "metadata": {},
   "outputs": [
    {
     "data": {
      "text/plain": [
       "user_name_j      -30.627575\n",
       "group_ML Model    -3.133824\n",
       "group_LIME         3.133824\n",
       "user_name_n        8.515044\n",
       "user_name_t       22.112531\n",
       "trx_amnt          60.016547\n",
       "dtype: float64"
      ]
     },
     "execution_count": 66,
     "metadata": {},
     "output_type": "execute_result"
    }
   ],
   "source": [
    "fit_linear_model_for_pairwise_test(all_decisions, ('LIME', 'ML Model'), 'modified_time', Ridge())"
   ]
  },
  {
   "cell_type": "code",
   "execution_count": 67,
   "id": "3ac78c00-739f-4fac-a8f3-eea68e4b22cf",
   "metadata": {},
   "outputs": [
    {
     "data": {
      "text/plain": [
       "user_name_j      -32.352225\n",
       "group_ML Model    -7.113395\n",
       "group_TreeInt      7.113395\n",
       "user_name_t        9.904155\n",
       "user_name_n       22.448070\n",
       "trx_amnt          63.595129\n",
       "dtype: float64"
      ]
     },
     "execution_count": 67,
     "metadata": {},
     "output_type": "execute_result"
    }
   ],
   "source": [
    "fit_linear_model_for_pairwise_test(all_decisions, ('TreeInt', 'ML Model'), 'modified_time', Ridge())"
   ]
  },
  {
   "cell_type": "code",
   "execution_count": 69,
   "id": "fe459f7c-233c-4345-b0f9-d43f07486fc7",
   "metadata": {},
   "outputs": [
    {
     "data": {
      "text/plain": [
       "user_name_j         -36.057953\n",
       "user_name_t          -6.341611\n",
       "group_Irrelevant     -2.082089\n",
       "group_TreeInt         2.082089\n",
       "user_name_n          42.399564\n",
       "trx_amnt            173.546969\n",
       "dtype: float64"
      ]
     },
     "execution_count": 69,
     "metadata": {},
     "output_type": "execute_result"
    }
   ],
   "source": [
    "fit_linear_model_for_pairwise_test(all_decisions, ('TreeInt', 'Irrelevant'),'modified_time', Ridge())"
   ]
  },
  {
   "cell_type": "code",
   "execution_count": 70,
   "id": "4db724e7-e8de-4b99-bcd0-935751c501ed",
   "metadata": {},
   "outputs": [
    {
     "data": {
      "text/plain": [
       "user_name_j      -35.241664\n",
       "group_Random      -4.742141\n",
       "user_name_t       -3.473070\n",
       "group_TreeInt      4.742141\n",
       "user_name_n       38.714734\n",
       "trx_amnt         103.093762\n",
       "dtype: float64"
      ]
     },
     "execution_count": 70,
     "metadata": {},
     "output_type": "execute_result"
    }
   ],
   "source": [
    "fit_linear_model_for_pairwise_test(all_decisions, ('TreeInt', 'Random'), 'modified_time', Ridge())"
   ]
  },
  {
   "cell_type": "markdown",
   "id": "b752e489-e4fa-43b8-89b4-f7d54a805e40",
   "metadata": {},
   "source": [
    "### Regret"
   ]
  },
  {
   "cell_type": "code",
   "execution_count": 89,
   "id": "4d71526f-7a7f-42aa-8cd2-87ff5e5ba37e",
   "metadata": {},
   "outputs": [
    {
     "data": {
      "text/plain": [
       "trx_amnt         -0.098860\n",
       "user_name_n      -0.019088\n",
       "user_name_t      -0.015060\n",
       "group_ML Model   -0.005071\n",
       "group_Data        0.005071\n",
       "user_name_j       0.034148\n",
       "dtype: float64"
      ]
     },
     "execution_count": 89,
     "metadata": {},
     "output_type": "execute_result"
    }
   ],
   "source": [
    "fit_linear_model_for_pairwise_test(all_decisions, ('ML Model', 'Data'), 'regret', Ridge())"
   ]
  },
  {
   "cell_type": "code",
   "execution_count": 90,
   "id": "1299b44e-140f-459f-a71f-52713e5dbd55",
   "metadata": {},
   "outputs": [
    {
     "data": {
      "text/plain": [
       "trx_amnt         -0.010999\n",
       "user_name_n      -0.010444\n",
       "group_ML Model   -0.005324\n",
       "user_name_t      -0.003453\n",
       "group_LIME        0.005324\n",
       "user_name_j       0.013898\n",
       "dtype: float64"
      ]
     },
     "execution_count": 90,
     "metadata": {},
     "output_type": "execute_result"
    }
   ],
   "source": [
    "fit_linear_model_for_pairwise_test(all_decisions, ('ML Model', 'LIME'), 'regret', Ridge())"
   ]
  },
  {
   "cell_type": "code",
   "execution_count": null,
   "id": "f0b7034b-0d63-47a8-8b1a-def4499004e8",
   "metadata": {},
   "outputs": [],
   "source": []
  },
  {
   "cell_type": "code",
   "execution_count": null,
   "id": "f5835605-e7da-4942-923b-82db6aa678b2",
   "metadata": {},
   "outputs": [],
   "source": []
  },
  {
   "cell_type": "code",
   "execution_count": null,
   "id": "6d7ec02b-897e-4848-b26a-c13a3f1f1017",
   "metadata": {},
   "outputs": [],
   "source": []
  },
  {
   "cell_type": "code",
   "execution_count": null,
   "id": "2b389730-a752-4bd5-8337-eaf55499c0cf",
   "metadata": {},
   "outputs": [],
   "source": []
  },
  {
   "cell_type": "code",
   "execution_count": null,
   "id": "d17a7994-49b6-4ca1-a34a-1640626e14cb",
   "metadata": {},
   "outputs": [],
   "source": []
  },
  {
   "cell_type": "code",
   "execution_count": null,
   "id": "85815c27-eb2d-4ff8-93b7-ceab611de6c1",
   "metadata": {},
   "outputs": [],
   "source": []
  },
  {
   "cell_type": "code",
   "execution_count": null,
   "id": "2904106c-0b32-4c7b-8f91-7b58fdc3d6f3",
   "metadata": {},
   "outputs": [],
   "source": []
  },
  {
   "cell_type": "code",
   "execution_count": null,
   "id": "350f6906-2430-4404-ac7c-97cb496df490",
   "metadata": {},
   "outputs": [],
   "source": []
  },
  {
   "cell_type": "code",
   "execution_count": null,
   "id": "62e39593-2be6-4669-94f1-860f9d61b340",
   "metadata": {},
   "outputs": [],
   "source": []
  },
  {
   "cell_type": "code",
   "execution_count": null,
   "id": "1bc3d8a3-deea-41c9-ab3a-871eec5321c3",
   "metadata": {},
   "outputs": [],
   "source": []
  },
  {
   "cell_type": "code",
   "execution_count": null,
   "id": "b79f457e-96fe-4c34-bb00-01ee0f14774b",
   "metadata": {},
   "outputs": [],
   "source": []
  },
  {
   "cell_type": "markdown",
   "id": "251e3ebd-ab31-4446-b2ec-f244b4aa6dce",
   "metadata": {},
   "source": [
    "### Using all experimental conditions together "
   ]
  },
  {
   "cell_type": "code",
   "execution_count": 105,
   "id": "041f37ac-f87a-4c01-8ff0-e9744687252c",
   "metadata": {},
   "outputs": [
    {
     "data": {
      "text/html": [
       "<div>\n",
       "<style scoped>\n",
       "    .dataframe tbody tr th:only-of-type {\n",
       "        vertical-align: middle;\n",
       "    }\n",
       "\n",
       "    .dataframe tbody tr th {\n",
       "        vertical-align: top;\n",
       "    }\n",
       "\n",
       "    .dataframe thead th {\n",
       "        text-align: right;\n",
       "    }\n",
       "</style>\n",
       "<table border=\"1\" class=\"dataframe\">\n",
       "  <thead>\n",
       "    <tr style=\"text-align: right;\">\n",
       "      <th></th>\n",
       "      <th>user_name</th>\n",
       "      <th>group</th>\n",
       "      <th>decision_time</th>\n",
       "    </tr>\n",
       "  </thead>\n",
       "  <tbody>\n",
       "    <tr>\n",
       "      <th>0</th>\n",
       "      <td>j</td>\n",
       "      <td>ML Model</td>\n",
       "      <td>24</td>\n",
       "    </tr>\n",
       "    <tr>\n",
       "      <th>1</th>\n",
       "      <td>n</td>\n",
       "      <td>Irrelevant</td>\n",
       "      <td>126</td>\n",
       "    </tr>\n",
       "    <tr>\n",
       "      <th>2</th>\n",
       "      <td>n</td>\n",
       "      <td>Data</td>\n",
       "      <td>61</td>\n",
       "    </tr>\n",
       "    <tr>\n",
       "      <th>3</th>\n",
       "      <td>j</td>\n",
       "      <td>ML Model</td>\n",
       "      <td>8</td>\n",
       "    </tr>\n",
       "    <tr>\n",
       "      <th>4</th>\n",
       "      <td>t</td>\n",
       "      <td>Irrelevant</td>\n",
       "      <td>39</td>\n",
       "    </tr>\n",
       "  </tbody>\n",
       "</table>\n",
       "</div>"
      ],
      "text/plain": [
       "  user_name       group  decision_time\n",
       "0         j    ML Model             24\n",
       "1         n  Irrelevant            126\n",
       "2         n        Data             61\n",
       "3         j    ML Model              8\n",
       "4         t  Irrelevant             39"
      ]
     },
     "execution_count": 105,
     "metadata": {},
     "output_type": "execute_result"
    }
   ],
   "source": [
    "regression_features = ['user_name', 'group', 'decision_time', 't']\n",
    "\n",
    "# regression_features = [ 'group', 'decision_time']\n",
    "\n",
    "all_decisions[regression_features].head()"
   ]
  },
  {
   "cell_type": "code",
   "execution_count": null,
   "id": "40e82414-3464-4d87-8c4a-329a63c6f3af",
   "metadata": {},
   "outputs": [],
   "source": []
  },
  {
   "cell_type": "code",
   "execution_count": null,
   "id": "d943511d-a663-4437-bd4e-a54fb7467620",
   "metadata": {},
   "outputs": [],
   "source": []
  },
  {
   "cell_type": "code",
   "execution_count": 106,
   "id": "3b347acf-e9ea-4fdb-bb27-fd3d5f2ccf1f",
   "metadata": {},
   "outputs": [],
   "source": [
    "dummified = pd.get_dummies(all_decisions[regression_features])"
   ]
  },
  {
   "cell_type": "code",
   "execution_count": 107,
   "id": "17d73359-63e0-434c-bcb7-de5ba8945964",
   "metadata": {},
   "outputs": [],
   "source": [
    "y = dummified['decision_time']\n",
    "X = dummified.drop(columns='decision_time')"
   ]
  },
  {
   "cell_type": "code",
   "execution_count": 108,
   "id": "8a6ddc76-583e-44de-a85f-83abdc623320",
   "metadata": {},
   "outputs": [],
   "source": [
    "# train_X, valid_X, train_y, valid_y = train_test_split(X, y, test_size=0)"
   ]
  },
  {
   "cell_type": "code",
   "execution_count": 109,
   "id": "d14c176f-ab3f-4562-9179-36031d6f4a45",
   "metadata": {},
   "outputs": [],
   "source": [
    "scaler = MinMaxScaler().fit(X)\n",
    "x_scaled = scaler.transform(X)"
   ]
  },
  {
   "cell_type": "markdown",
   "id": "9f628944-648c-4708-8b3e-9cbb4beb7087",
   "metadata": {},
   "source": [
    "#### Unregularized Linear Regression"
   ]
  },
  {
   "cell_type": "code",
   "execution_count": 110,
   "id": "c7fd81de-fb92-4008-93b3-63f32b20691a",
   "metadata": {},
   "outputs": [
    {
     "data": {
      "text/plain": [
       "group_ML Model     -2.459101e+15\n",
       "group_LIME         -2.459101e+15\n",
       "group_Data         -2.459101e+15\n",
       "group_TreeInt      -2.459101e+15\n",
       "group_TreeSHAP     -2.459101e+15\n",
       "group_Irrelevant   -2.459101e+15\n",
       "group_Random       -2.459101e+15\n",
       "user_name_j         4.658508e+14\n",
       "user_name_t         4.658508e+14\n",
       "user_name_n         4.658508e+14\n",
       "dtype: float64"
      ]
     },
     "execution_count": 110,
     "metadata": {},
     "output_type": "execute_result"
    }
   ],
   "source": [
    "mod = LinearRegression().fit(x_scaled, y)\n",
    "\n",
    "feature_importance = dict()\n",
    "for i in range(mod.coef_.shape[0]):\n",
    "    feature_importance[X.columns[i]] = mod.coef_[i]\n",
    "pd.Series(feature_importance).sort_values()"
   ]
  },
  {
   "cell_type": "markdown",
   "id": "9a924bf7-d0fe-48ea-a23b-636f5fb4b857",
   "metadata": {},
   "source": [
    "#### L1"
   ]
  },
  {
   "cell_type": "code",
   "execution_count": 103,
   "id": "53367118-80b9-4beb-8967-2d4a77682525",
   "metadata": {},
   "outputs": [
    {
     "data": {
      "text/plain": [
       "user_name_j        -21.099677\n",
       "group_ML Model      -1.143280\n",
       "user_name_t         -0.000000\n",
       "group_Data          -0.000000\n",
       "group_Irrelevant     0.000000\n",
       "group_LIME          -0.000000\n",
       "group_Random         0.000000\n",
       "group_TreeInt        0.000000\n",
       "group_TreeSHAP       0.000000\n",
       "user_name_n         23.148124\n",
       "dtype: float64"
      ]
     },
     "execution_count": 103,
     "metadata": {},
     "output_type": "execute_result"
    }
   ],
   "source": [
    "mod = Lasso().fit(x_scaled, y)\n",
    "\n",
    "feature_importance = dict()\n",
    "for i in range(mod.coef_.shape[0]):\n",
    "    feature_importance[X.columns[i]] = mod.coef_[i]\n",
    "\n",
    "pd.Series(feature_importance).sort_values()"
   ]
  },
  {
   "cell_type": "markdown",
   "id": "639c7314-b854-43b8-a585-ae1ee6a59b60",
   "metadata": {},
   "source": [
    "#### L2"
   ]
  },
  {
   "cell_type": "code",
   "execution_count": 104,
   "id": "a264a5e7-dadd-4a04-ad73-b242eb445bc0",
   "metadata": {},
   "outputs": [
    {
     "data": {
      "text/plain": [
       "user_name_j        -24.746567\n",
       "group_ML Model      -7.938153\n",
       "group_LIME          -4.086523\n",
       "group_Data          -1.875893\n",
       "user_name_t         -0.692205\n",
       "group_TreeSHAP       1.848526\n",
       "group_TreeInt        2.589683\n",
       "group_Random         3.104993\n",
       "group_Irrelevant     6.357368\n",
       "user_name_n         25.438772\n",
       "dtype: float64"
      ]
     },
     "execution_count": 104,
     "metadata": {},
     "output_type": "execute_result"
    }
   ],
   "source": [
    "mod = Ridge().fit(x_scaled, y)\n",
    "\n",
    "feature_importance = dict()\n",
    "for i in range(mod.coef_.shape[0]):\n",
    "    feature_importance[X.columns[i]] = mod.coef_[i]\n",
    "\n",
    "pd.Series(feature_importance).sort_values()"
   ]
  },
  {
   "cell_type": "code",
   "execution_count": null,
   "id": "74e41e88-beb1-4fed-9dd9-c96e531a095a",
   "metadata": {},
   "outputs": [],
   "source": []
  },
  {
   "cell_type": "code",
   "execution_count": 70,
   "id": "fcdd3afc-9752-4ae8-9749-57a63ee00b6b",
   "metadata": {},
   "outputs": [
    {
     "data": {
      "text/html": [
       "<div>\n",
       "<style scoped>\n",
       "    .dataframe tbody tr th:only-of-type {\n",
       "        vertical-align: middle;\n",
       "    }\n",
       "\n",
       "    .dataframe tbody tr th {\n",
       "        vertical-align: top;\n",
       "    }\n",
       "\n",
       "    .dataframe thead th {\n",
       "        text-align: right;\n",
       "    }\n",
       "</style>\n",
       "<table border=\"1\" class=\"dataframe\">\n",
       "  <thead>\n",
       "    <tr style=\"text-align: right;\">\n",
       "      <th></th>\n",
       "      <th>Transaction ID</th>\n",
       "      <th>Transaction Amount (USD)</th>\n",
       "      <th>Fraud Label</th>\n",
       "      <th>Analyst ID</th>\n",
       "      <th>Experimental Arm</th>\n",
       "      <th>Analyst Decision</th>\n",
       "      <th>Decision Time (seconds)</th>\n",
       "      <th>Perceived Confidence</th>\n",
       "      <th>Perceived Information</th>\n",
       "    </tr>\n",
       "  </thead>\n",
       "  <tbody>\n",
       "    <tr>\n",
       "      <th>0</th>\n",
       "      <td>1</td>\n",
       "      <td>207.85</td>\n",
       "      <td>0</td>\n",
       "      <td>1</td>\n",
       "      <td>Control (Scores)</td>\n",
       "      <td>approved</td>\n",
       "      <td>24</td>\n",
       "      <td>High confidence</td>\n",
       "      <td>Medium information</td>\n",
       "    </tr>\n",
       "    <tr>\n",
       "      <th>1</th>\n",
       "      <td>2</td>\n",
       "      <td>88.50</td>\n",
       "      <td>0</td>\n",
       "      <td>2</td>\n",
       "      <td>Control (No Scores)</td>\n",
       "      <td>approved</td>\n",
       "      <td>61</td>\n",
       "      <td>High confidence</td>\n",
       "      <td>High information</td>\n",
       "    </tr>\n",
       "    <tr>\n",
       "      <th>2</th>\n",
       "      <td>3</td>\n",
       "      <td>139.24</td>\n",
       "      <td>0</td>\n",
       "      <td>1</td>\n",
       "      <td>Control (Scores)</td>\n",
       "      <td>approved</td>\n",
       "      <td>8</td>\n",
       "      <td>Certainty</td>\n",
       "      <td>High information</td>\n",
       "    </tr>\n",
       "    <tr>\n",
       "      <th>3</th>\n",
       "      <td>4</td>\n",
       "      <td>165.85</td>\n",
       "      <td>0</td>\n",
       "      <td>3</td>\n",
       "      <td>Control (No Scores)</td>\n",
       "      <td>approved</td>\n",
       "      <td>26</td>\n",
       "      <td>High confidence</td>\n",
       "      <td>Low information</td>\n",
       "    </tr>\n",
       "    <tr>\n",
       "      <th>4</th>\n",
       "      <td>5</td>\n",
       "      <td>159.53</td>\n",
       "      <td>0</td>\n",
       "      <td>3</td>\n",
       "      <td>Control (Scores)</td>\n",
       "      <td>approved</td>\n",
       "      <td>16</td>\n",
       "      <td>High confidence</td>\n",
       "      <td>Low information</td>\n",
       "    </tr>\n",
       "    <tr>\n",
       "      <th>...</th>\n",
       "      <td>...</td>\n",
       "      <td>...</td>\n",
       "      <td>...</td>\n",
       "      <td>...</td>\n",
       "      <td>...</td>\n",
       "      <td>...</td>\n",
       "      <td>...</td>\n",
       "      <td>...</td>\n",
       "      <td>...</td>\n",
       "    </tr>\n",
       "    <tr>\n",
       "      <th>3458</th>\n",
       "      <td>531</td>\n",
       "      <td>177.68</td>\n",
       "      <td>1</td>\n",
       "      <td>3</td>\n",
       "      <td>Irrelevant Features</td>\n",
       "      <td>approved</td>\n",
       "      <td>38</td>\n",
       "      <td>High confidence</td>\n",
       "      <td>Low information</td>\n",
       "    </tr>\n",
       "    <tr>\n",
       "      <th>3459</th>\n",
       "      <td>462</td>\n",
       "      <td>190.87</td>\n",
       "      <td>1</td>\n",
       "      <td>3</td>\n",
       "      <td>Random Model Features</td>\n",
       "      <td>approved</td>\n",
       "      <td>30</td>\n",
       "      <td>High confidence</td>\n",
       "      <td>No information</td>\n",
       "    </tr>\n",
       "    <tr>\n",
       "      <th>3460</th>\n",
       "      <td>405</td>\n",
       "      <td>441.04</td>\n",
       "      <td>1</td>\n",
       "      <td>3</td>\n",
       "      <td>Random Model Features</td>\n",
       "      <td>declined</td>\n",
       "      <td>35</td>\n",
       "      <td>Certainty</td>\n",
       "      <td>No information</td>\n",
       "    </tr>\n",
       "    <tr>\n",
       "      <th>3461</th>\n",
       "      <td>496</td>\n",
       "      <td>112.91</td>\n",
       "      <td>0</td>\n",
       "      <td>3</td>\n",
       "      <td>Random Model Features</td>\n",
       "      <td>approved</td>\n",
       "      <td>24</td>\n",
       "      <td>High confidence</td>\n",
       "      <td>No information</td>\n",
       "    </tr>\n",
       "    <tr>\n",
       "      <th>3462</th>\n",
       "      <td>10</td>\n",
       "      <td>801.09</td>\n",
       "      <td>0</td>\n",
       "      <td>3</td>\n",
       "      <td>Random Model Features</td>\n",
       "      <td>approved</td>\n",
       "      <td>19</td>\n",
       "      <td>Certainty</td>\n",
       "      <td>Low information</td>\n",
       "    </tr>\n",
       "  </tbody>\n",
       "</table>\n",
       "<p>3463 rows × 9 columns</p>\n",
       "</div>"
      ],
      "text/plain": [
       "      Transaction ID  Transaction Amount (USD)  Fraud Label  Analyst ID  \\\n",
       "0                  1                    207.85            0           1   \n",
       "1                  2                     88.50            0           2   \n",
       "2                  3                    139.24            0           1   \n",
       "3                  4                    165.85            0           3   \n",
       "4                  5                    159.53            0           3   \n",
       "...              ...                       ...          ...         ...   \n",
       "3458             531                    177.68            1           3   \n",
       "3459             462                    190.87            1           3   \n",
       "3460             405                    441.04            1           3   \n",
       "3461             496                    112.91            0           3   \n",
       "3462              10                    801.09            0           3   \n",
       "\n",
       "           Experimental Arm Analyst Decision  Decision Time (seconds)  \\\n",
       "0          Control (Scores)         approved                       24   \n",
       "1       Control (No Scores)         approved                       61   \n",
       "2          Control (Scores)         approved                        8   \n",
       "3       Control (No Scores)         approved                       26   \n",
       "4          Control (Scores)         approved                       16   \n",
       "...                     ...              ...                      ...   \n",
       "3458    Irrelevant Features         approved                       38   \n",
       "3459  Random Model Features         approved                       30   \n",
       "3460  Random Model Features         declined                       35   \n",
       "3461  Random Model Features         approved                       24   \n",
       "3462  Random Model Features         approved                       19   \n",
       "\n",
       "     Perceived Confidence Perceived Information  \n",
       "0         High confidence    Medium information  \n",
       "1         High confidence      High information  \n",
       "2               Certainty      High information  \n",
       "3         High confidence       Low information  \n",
       "4         High confidence       Low information  \n",
       "...                   ...                   ...  \n",
       "3458      High confidence       Low information  \n",
       "3459      High confidence        No information  \n",
       "3460            Certainty        No information  \n",
       "3461      High confidence        No information  \n",
       "3462            Certainty       Low information  \n",
       "\n",
       "[3463 rows x 9 columns]"
      ]
     },
     "execution_count": 70,
     "metadata": {},
     "output_type": "execute_result"
    }
   ],
   "source": [
    "all_decisions_2"
   ]
  },
  {
   "cell_type": "code",
   "execution_count": 96,
   "id": "7b2c5e2c-5a84-4a2e-8468-62ffc32fd31d",
   "metadata": {},
   "outputs": [
    {
     "name": "stderr",
     "output_type": "stream",
     "text": [
      "/tmp/ipykernel_25415/1154419150.py:1: FutureWarning: The default value of numeric_only in DataFrameGroupBy.mean is deprecated. In a future version, numeric_only will default to False. Either specify numeric_only or select only columns which should be valid for the function.\n",
      "  all_decisions_2.groupby(['Analyst ID', 'Experimental Arm']).mean()['Decision Time (seconds)']\n"
     ]
    },
    {
     "data": {
      "text/plain": [
       "Analyst ID  Experimental Arm     \n",
       "1           Control (No Scores)      24.865854\n",
       "            Control (Scores)         20.066667\n",
       "            Irrelevant Features      22.536585\n",
       "            LIME                     16.500000\n",
       "            Random Model Features    19.877301\n",
       "            SHAP                     28.206061\n",
       "            TreeInterpreter          17.298780\n",
       "2           Control (No Scores)      61.654545\n",
       "            Control (Scores)         56.442424\n",
       "            Irrelevant Features      89.981928\n",
       "            LIME                     62.251497\n",
       "            Random Model Features    79.248485\n",
       "            SHAP                     71.012048\n",
       "            TreeInterpreter          80.393939\n",
       "3           Control (No Scores)      46.098160\n",
       "            Control (Scores)         38.103659\n",
       "            Irrelevant Features      45.161677\n",
       "            LIME                     47.198795\n",
       "            Random Model Features    48.524390\n",
       "            SHAP                     44.733333\n",
       "            TreeInterpreter          48.493902\n",
       "Name: Decision Time (seconds), dtype: float64"
      ]
     },
     "execution_count": 96,
     "metadata": {},
     "output_type": "execute_result"
    }
   ],
   "source": [
    "all_decisions_2.groupby(['Analyst ID', 'Experimental Arm']).mean()['Decision Time (seconds)']"
   ]
  },
  {
   "cell_type": "markdown",
   "id": "4f9d1eea-411d-4ba8-967d-5c66b2aaae41",
   "metadata": {},
   "source": [
    "## Evaluating Hypotheses"
   ]
  },
  {
   "cell_type": "markdown",
   "id": "b78f5b3e-23ce-4f04-96a7-00297ea7bf32",
   "metadata": {},
   "source": [
    "#### H1: Model vs Data"
   ]
  },
  {
   "cell_type": "code",
   "execution_count": null,
   "id": "7c88c999-be28-4eaa-aca1-7751afcb8e2b",
   "metadata": {},
   "outputs": [],
   "source": []
  }
 ],
 "metadata": {
  "kernelspec": {
   "display_name": "Python 3 (ipykernel)",
   "language": "python",
   "name": "python3"
  },
  "language_info": {
   "codemirror_mode": {
    "name": "ipython",
    "version": 3
   },
   "file_extension": ".py",
   "mimetype": "text/x-python",
   "name": "python",
   "nbconvert_exporter": "python",
   "pygments_lexer": "ipython3",
   "version": "3.8.2"
  }
 },
 "nbformat": 4,
 "nbformat_minor": 5
}
